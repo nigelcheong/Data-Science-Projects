{
  "nbformat": 4,
  "nbformat_minor": 0,
  "metadata": {
    "colab": {
      "provenance": []
    },
    "kernelspec": {
      "name": "python3",
      "display_name": "Python 3"
    },
    "language_info": {
      "name": "python"
    }
  },
  "cells": [
    {
      "cell_type": "markdown",
      "source": [
        "<h1><strong>Assignment 1 Part B</strong></h1>"
      ],
      "metadata": {
        "id": "6rKUL_nIGP6I"
      }
    },
    {
      "cell_type": "code",
      "execution_count": null,
      "metadata": {
        "id": "fMJOtwFzGMvu"
      },
      "outputs": [],
      "source": [
        "from sklearn.datasets import fetch_openml\n",
        "import pandas as pd\n",
        "import matplotlib.pyplot as plt\n",
        "import numpy as np\n",
        "import pickle"
      ]
    },
    {
      "cell_type": "markdown",
      "source": [
        "<h2><strong>1. Introduction</strong></h2>\n",
        "<p>The goal of this study is to use a logistics regression model to categorise images of several clothing items. In doing so, we apply a logistics regression model on the Fashion-MNIST dataset which contains images of clothing from 10 different classes. We also analyse the accuracy of the logistic regression model in performing this image classification task by generating a confusion matrix based on the model’s prediction. This will allow analysing correspondence between the model’s classification result and a reference image. The study may also explore ways to improve the accuracy of prediction. For Instance, each image that is utilised by the model comes in a scale of 28x28 pixels by default and using images of higher resolution may increase the accuracy of the model by training it with more information.</p>"
      ],
      "metadata": {
        "id": "gLMGf-LDMTqg"
      }
    },
    {
      "cell_type": "markdown",
      "source": [
        "<h2><strong>2. Describe the Data</strong></h2>\n",
        "<p>This Fashion-MNIST data set comprises 70,000 observations. Each observation is of a 28x28 grey-scale image of several clothing items. There are ten classes that each observation can be labelled as. These labels are: t-shirt, trouser, pullover, dress, coat, sandal, shirt, sneaker, bag, and ankle boot.</p>"
      ],
      "metadata": {
        "id": "Hjuwqw9SNdKt"
      }
    },
    {
      "cell_type": "markdown",
      "source": [
        "<h2><strong>3. Why Logistic Regression?</strong></h2>\n",
        "<p>The Fashion-MNIST data set is often used to benchmark machine learning algorithms by controlling the dataset [1]. Therefore, by testing the logistic regression model against the Fashion-MNIST dataset in our study, this allows us to determine the capability of the model for this particular image classification task compared to other machine learning algorithms. The logistic regression model we use to perform this image classification task is a supervised machine learning model that works by analysing relationships between one or more independent variables from a dataset. In this image classification application we expect that the model will be able to classify images into their classes by taking the image pixel information as a vector and computing a probability of the image belonging to each class [2].</p>"
      ],
      "metadata": {
        "id": "lEOc_KtCN2VO"
      }
    },
    {
      "cell_type": "markdown",
      "source": [
        "<h2><strong>4. Retrieving Data</strong></h2>"
      ],
      "metadata": {
        "id": "yWchAKyBMeYa"
      }
    },
    {
      "cell_type": "code",
      "source": [
        "image = fetch_openml('Fashion-MNIST', version = 1)"
      ],
      "metadata": {
        "id": "2qZsxE8lHsP7"
      },
      "execution_count": null,
      "outputs": []
    },
    {
      "cell_type": "code",
      "source": [
        "image.keys()"
      ],
      "metadata": {
        "colab": {
          "base_uri": "https://localhost:8080/"
        },
        "id": "MGjAlkwMIMh1",
        "outputId": "32265ab7-402a-408d-f07f-2b5eb353399e"
      },
      "execution_count": null,
      "outputs": [
        {
          "output_type": "execute_result",
          "data": {
            "text/plain": [
              "dict_keys(['data', 'target', 'frame', 'categories', 'feature_names', 'target_names', 'DESCR', 'details', 'url'])"
            ]
          },
          "metadata": {},
          "execution_count": 3
        }
      ]
    },
    {
      "cell_type": "code",
      "source": [
        "image.target[:5]"
      ],
      "metadata": {
        "colab": {
          "base_uri": "https://localhost:8080/"
        },
        "id": "QTcWYAvNmPFF",
        "outputId": "eed0ebc6-f91a-4fca-febb-5f7cbbbe3afc"
      },
      "execution_count": null,
      "outputs": [
        {
          "output_type": "execute_result",
          "data": {
            "text/plain": [
              "0    9\n",
              "1    0\n",
              "2    0\n",
              "3    3\n",
              "4    0\n",
              "Name: class, dtype: category\n",
              "Categories (10, object): ['0', '1', '2', '3', ..., '6', '7', '8', '9']"
            ]
          },
          "metadata": {},
          "execution_count": 4
        }
      ]
    },
    {
      "cell_type": "markdown",
      "source": [
        "<h2><strong>5. Exploring Data</strong></h2>"
      ],
      "metadata": {
        "id": "QTHg3aIxMjyf"
      }
    },
    {
      "cell_type": "markdown",
      "source": [
        "<h3>5.1. Show image & data</h3>"
      ],
      "metadata": {
        "id": "zm0d1wyQPG6f"
      }
    },
    {
      "cell_type": "code",
      "source": [
        "plt.figure(figsize=(10,10))\n",
        "for idx in range(12):\n",
        "  images = image.data.iloc[idx,:]\n",
        "  label = image.target[idx]\n",
        "  plt.subplot(3, 4, idx + 1)\n",
        "  plt.imshow(np.array(images).reshape(28, 28), cmap=plt.cm.gray)\n",
        "  plt.title('Training: %i\\n' % int(label), fontsize = 15)"
      ],
      "metadata": {
        "colab": {
          "base_uri": "https://localhost:8080/",
          "height": 588
        },
        "id": "GACnEw8enZBG",
        "outputId": "6942a745-8e3a-457b-fbaf-80dc1d898020"
      },
      "execution_count": null,
      "outputs": [
        {
          "output_type": "display_data",
          "data": {
            "text/plain": [
              "<Figure size 720x720 with 12 Axes>"
            ],
            "image/png": "[encoded data removed]"
          },
          "metadata": {
            "needs_background": "light"
          }
        }
      ]
    },
    {
      "cell_type": "code",
      "source": [
        "image.data"
      ],
      "metadata": {
        "id": "zwUqK1eroAjz",
        "colab": {
          "base_uri": "https://localhost:8080/",
          "height": 488
        },
        "outputId": "451d032f-6299-4d36-9f90-758fa402d47e"
      },
      "execution_count": null,
      "outputs": [
        {
          "output_type": "execute_result",
          "data": {
            "text/plain": [
              "       pixel1  pixel2  pixel3  pixel4  pixel5  pixel6  pixel7  pixel8  pixel9  \\\n",
              "0         0.0     0.0     0.0     0.0     0.0     0.0     0.0     0.0     0.0   \n",
              "1         0.0     0.0     0.0     0.0     0.0     1.0     0.0     0.0     0.0   \n",
              "2         0.0     0.0     0.0     0.0     0.0     0.0     0.0     0.0     0.0   \n",
              "3         0.0     0.0     0.0     0.0     0.0     0.0     0.0     0.0    33.0   \n",
              "4         0.0     0.0     0.0     0.0     0.0     0.0     0.0     0.0     0.0   \n",
              "...       ...     ...     ...     ...     ...     ...     ...     ...     ...   \n",
              "69995     0.0     0.0     0.0     0.0     0.0     0.0     0.0     0.0     0.0   \n",
              "69996     0.0     0.0     0.0     0.0     0.0     0.0     0.0     0.0     0.0   \n",
              "69997     0.0     0.0     0.0     0.0     0.0     0.0     0.0     0.0     0.0   \n",
              "69998     0.0     0.0     0.0     0.0     0.0     0.0     0.0     0.0     0.0   \n",
              "69999     0.0     0.0     0.0     0.0     0.0     0.0     0.0     0.0     0.0   \n",
              "\n",
              "       pixel10  ...  pixel775  pixel776  pixel777  pixel778  pixel779  \\\n",
              "0          0.0  ...       0.0       0.0       0.0       0.0       0.0   \n",
              "1          0.0  ...     119.0     114.0     130.0      76.0       0.0   \n",
              "2         22.0  ...       0.0       0.0       1.0       0.0       0.0   \n",
              "3         96.0  ...       0.0       0.0       0.0       0.0       0.0   \n",
              "4          0.0  ...       0.0       0.0       0.0       0.0       0.0   \n",
              "...        ...  ...       ...       ...       ...       ...       ...   \n",
              "69995      0.0  ...       0.0       0.0       0.0       0.0       0.0   \n",
              "69996     31.0  ...       0.0       0.0       0.0       0.0       0.0   \n",
              "69997      0.0  ...      27.0       0.0       0.0       0.0       0.0   \n",
              "69998      0.0  ...       0.0       0.0       0.0       0.0       0.0   \n",
              "69999      0.0  ...       0.0       0.0       0.0       0.0       0.0   \n",
              "\n",
              "       pixel780  pixel781  pixel782  pixel783  pixel784  \n",
              "0           0.0       0.0       0.0       0.0       0.0  \n",
              "1           0.0       0.0       0.0       0.0       0.0  \n",
              "2           0.0       0.0       0.0       0.0       0.0  \n",
              "3           0.0       0.0       0.0       0.0       0.0  \n",
              "4           0.0       0.0       0.0       0.0       0.0  \n",
              "...         ...       ...       ...       ...       ...  \n",
              "69995       0.0       0.0       0.0       0.0       0.0  \n",
              "69996       0.0       0.0       0.0       0.0       0.0  \n",
              "69997       0.0       0.0       0.0       0.0       0.0  \n",
              "69998       0.0       0.0       0.0       0.0       0.0  \n",
              "69999       0.0       0.0       0.0       0.0       0.0  \n",
              "\n",
              "[70000 rows x 784 columns]"
            ],
            "text/html": [
              "\n",
              "  <div id=\"df-92065e74-1ed8-441d-b919-8e1bddfdd36f\">\n",
              "    <div class=\"colab-df-container\">\n",
              "      <div>\n",
              "<style scoped>\n",
              "    .dataframe tbody tr th:only-of-type {\n",
              "        vertical-align: middle;\n",
              "    }\n",
              "\n",
              "    .dataframe tbody tr th {\n",
              "        vertical-align: top;\n",
              "    }\n",
              "\n",
              "    .dataframe thead th {\n",
              "        text-align: right;\n",
              "    }\n",
              "</style>\n",
              "<table border=\"1\" class=\"dataframe\">\n",
              "  <thead>\n",
              "    <tr style=\"text-align: right;\">\n",
              "      <th></th>\n",
              "      <th>pixel1</th>\n",
              "      <th>pixel2</th>\n",
              "      <th>pixel3</th>\n",
              "      <th>pixel4</th>\n",
              "      <th>pixel5</th>\n",
              "      <th>pixel6</th>\n",
              "      <th>pixel7</th>\n",
              "      <th>pixel8</th>\n",
              "      <th>pixel9</th>\n",
              "      <th>pixel10</th>\n",
              "      <th>...</th>\n",
              "      <th>pixel775</th>\n",
              "      <th>pixel776</th>\n",
              "      <th>pixel777</th>\n",
              "      <th>pixel778</th>\n",
              "      <th>pixel779</th>\n",
              "      <th>pixel780</th>\n",
              "      <th>pixel781</th>\n",
              "      <th>pixel782</th>\n",
              "      <th>pixel783</th>\n",
              "      <th>pixel784</th>\n",
              "    </tr>\n",
              "  </thead>\n",
              "  <tbody>\n",
              "    <tr>\n",
              "      <th>0</th>\n",
              "      <td>0.0</td>\n",
              "      <td>0.0</td>\n",
              "      <td>0.0</td>\n",
              "      <td>0.0</td>\n",
              "      <td>0.0</td>\n",
              "      <td>0.0</td>\n",
              "      <td>0.0</td>\n",
              "      <td>0.0</td>\n",
              "      <td>0.0</td>\n",
              "      <td>0.0</td>\n",
              "      <td>...</td>\n",
              "      <td>0.0</td>\n",
              "      <td>0.0</td>\n",
              "      <td>0.0</td>\n",
              "      <td>0.0</td>\n",
              "      <td>0.0</td>\n",
              "      <td>0.0</td>\n",
              "      <td>0.0</td>\n",
              "      <td>0.0</td>\n",
              "      <td>0.0</td>\n",
              "      <td>0.0</td>\n",
              "    </tr>\n",
              "    <tr>\n",
              "      <th>1</th>\n",
              "      <td>0.0</td>\n",
              "      <td>0.0</td>\n",
              "      <td>0.0</td>\n",
              "      <td>0.0</td>\n",
              "      <td>0.0</td>\n",
              "      <td>1.0</td>\n",
              "      <td>0.0</td>\n",
              "      <td>0.0</td>\n",
              "      <td>0.0</td>\n",
              "      <td>0.0</td>\n",
              "      <td>...</td>\n",
              "      <td>119.0</td>\n",
              "      <td>114.0</td>\n",
              "      <td>130.0</td>\n",
              "      <td>76.0</td>\n",
              "      <td>0.0</td>\n",
              "      <td>0.0</td>\n",
              "      <td>0.0</td>\n",
              "      <td>0.0</td>\n",
              "      <td>0.0</td>\n",
              "      <td>0.0</td>\n",
              "    </tr>\n",
              "    <tr>\n",
              "      <th>2</th>\n",
              "      <td>0.0</td>\n",
              "      <td>0.0</td>\n",
              "      <td>0.0</td>\n",
              "      <td>0.0</td>\n",
              "      <td>0.0</td>\n",
              "      <td>0.0</td>\n",
              "      <td>0.0</td>\n",
              "      <td>0.0</td>\n",
              "      <td>0.0</td>\n",
              "      <td>22.0</td>\n",
              "      <td>...</td>\n",
              "      <td>0.0</td>\n",
              "      <td>0.0</td>\n",
              "      <td>1.0</td>\n",
              "      <td>0.0</td>\n",
              "      <td>0.0</td>\n",
              "      <td>0.0</td>\n",
              "      <td>0.0</td>\n",
              "      <td>0.0</td>\n",
              "      <td>0.0</td>\n",
              "      <td>0.0</td>\n",
              "    </tr>\n",
              "    <tr>\n",
              "      <th>3</th>\n",
              "      <td>0.0</td>\n",
              "      <td>0.0</td>\n",
              "      <td>0.0</td>\n",
              "      <td>0.0</td>\n",
              "      <td>0.0</td>\n",
              "      <td>0.0</td>\n",
              "      <td>0.0</td>\n",
              "      <td>0.0</td>\n",
              "      <td>33.0</td>\n",
              "      <td>96.0</td>\n",
              "      <td>...</td>\n",
              "      <td>0.0</td>\n",
              "      <td>0.0</td>\n",
              "      <td>0.0</td>\n",
              "      <td>0.0</td>\n",
              "      <td>0.0</td>\n",
              "      <td>0.0</td>\n",
              "      <td>0.0</td>\n",
              "      <td>0.0</td>\n",
              "      <td>0.0</td>\n",
              "      <td>0.0</td>\n",
              "    </tr>\n",
              "    <tr>\n",
              "      <th>4</th>\n",
              "      <td>0.0</td>\n",
              "      <td>0.0</td>\n",
              "      <td>0.0</td>\n",
              "      <td>0.0</td>\n",
              "      <td>0.0</td>\n",
              "      <td>0.0</td>\n",
              "      <td>0.0</td>\n",
              "      <td>0.0</td>\n",
              "      <td>0.0</td>\n",
              "      <td>0.0</td>\n",
              "      <td>...</td>\n",
              "      <td>0.0</td>\n",
              "      <td>0.0</td>\n",
              "      <td>0.0</td>\n",
              "      <td>0.0</td>\n",
              "      <td>0.0</td>\n",
              "      <td>0.0</td>\n",
              "      <td>0.0</td>\n",
              "      <td>0.0</td>\n",
              "      <td>0.0</td>\n",
              "      <td>0.0</td>\n",
              "    </tr>\n",
              "    <tr>\n",
              "      <th>...</th>\n",
              "      <td>...</td>\n",
              "      <td>...</td>\n",
              "      <td>...</td>\n",
              "      <td>...</td>\n",
              "      <td>...</td>\n",
              "      <td>...</td>\n",
              "      <td>...</td>\n",
              "      <td>...</td>\n",
              "      <td>...</td>\n",
              "      <td>...</td>\n",
              "      <td>...</td>\n",
              "      <td>...</td>\n",
              "      <td>...</td>\n",
              "      <td>...</td>\n",
              "      <td>...</td>\n",
              "      <td>...</td>\n",
              "      <td>...</td>\n",
              "      <td>...</td>\n",
              "      <td>...</td>\n",
              "      <td>...</td>\n",
              "      <td>...</td>\n",
              "    </tr>\n",
              "    <tr>\n",
              "      <th>69995</th>\n",
              "      <td>0.0</td>\n",
              "      <td>0.0</td>\n",
              "      <td>0.0</td>\n",
              "      <td>0.0</td>\n",
              "      <td>0.0</td>\n",
              "      <td>0.0</td>\n",
              "      <td>0.0</td>\n",
              "      <td>0.0</td>\n",
              "      <td>0.0</td>\n",
              "      <td>0.0</td>\n",
              "      <td>...</td>\n",
              "      <td>0.0</td>\n",
              "      <td>0.0</td>\n",
              "      <td>0.0</td>\n",
              "      <td>0.0</td>\n",
              "      <td>0.0</td>\n",
              "      <td>0.0</td>\n",
              "      <td>0.0</td>\n",
              "      <td>0.0</td>\n",
              "      <td>0.0</td>\n",
              "      <td>0.0</td>\n",
              "    </tr>\n",
              "    <tr>\n",
              "      <th>69996</th>\n",
              "      <td>0.0</td>\n",
              "      <td>0.0</td>\n",
              "      <td>0.0</td>\n",
              "      <td>0.0</td>\n",
              "      <td>0.0</td>\n",
              "      <td>0.0</td>\n",
              "      <td>0.0</td>\n",
              "      <td>0.0</td>\n",
              "      <td>0.0</td>\n",
              "      <td>31.0</td>\n",
              "      <td>...</td>\n",
              "      <td>0.0</td>\n",
              "      <td>0.0</td>\n",
              "      <td>0.0</td>\n",
              "      <td>0.0</td>\n",
              "      <td>0.0</td>\n",
              "      <td>0.0</td>\n",
              "      <td>0.0</td>\n",
              "      <td>0.0</td>\n",
              "      <td>0.0</td>\n",
              "      <td>0.0</td>\n",
              "    </tr>\n",
              "    <tr>\n",
              "      <th>69997</th>\n",
              "      <td>0.0</td>\n",
              "      <td>0.0</td>\n",
              "      <td>0.0</td>\n",
              "      <td>0.0</td>\n",
              "      <td>0.0</td>\n",
              "      <td>0.0</td>\n",
              "      <td>0.0</td>\n",
              "      <td>0.0</td>\n",
              "      <td>0.0</td>\n",
              "      <td>0.0</td>\n",
              "      <td>...</td>\n",
              "      <td>27.0</td>\n",
              "      <td>0.0</td>\n",
              "      <td>0.0</td>\n",
              "      <td>0.0</td>\n",
              "      <td>0.0</td>\n",
              "      <td>0.0</td>\n",
              "      <td>0.0</td>\n",
              "      <td>0.0</td>\n",
              "      <td>0.0</td>\n",
              "      <td>0.0</td>\n",
              "    </tr>\n",
              "    <tr>\n",
              "      <th>69998</th>\n",
              "      <td>0.0</td>\n",
              "      <td>0.0</td>\n",
              "      <td>0.0</td>\n",
              "      <td>0.0</td>\n",
              "      <td>0.0</td>\n",
              "      <td>0.0</td>\n",
              "      <td>0.0</td>\n",
              "      <td>0.0</td>\n",
              "      <td>0.0</td>\n",
              "      <td>0.0</td>\n",
              "      <td>...</td>\n",
              "      <td>0.0</td>\n",
              "      <td>0.0</td>\n",
              "      <td>0.0</td>\n",
              "      <td>0.0</td>\n",
              "      <td>0.0</td>\n",
              "      <td>0.0</td>\n",
              "      <td>0.0</td>\n",
              "      <td>0.0</td>\n",
              "      <td>0.0</td>\n",
              "      <td>0.0</td>\n",
              "    </tr>\n",
              "    <tr>\n",
              "      <th>69999</th>\n",
              "      <td>0.0</td>\n",
              "      <td>0.0</td>\n",
              "      <td>0.0</td>\n",
              "      <td>0.0</td>\n",
              "      <td>0.0</td>\n",
              "      <td>0.0</td>\n",
              "      <td>0.0</td>\n",
              "      <td>0.0</td>\n",
              "      <td>0.0</td>\n",
              "      <td>0.0</td>\n",
              "      <td>...</td>\n",
              "      <td>0.0</td>\n",
              "      <td>0.0</td>\n",
              "      <td>0.0</td>\n",
              "      <td>0.0</td>\n",
              "      <td>0.0</td>\n",
              "      <td>0.0</td>\n",
              "      <td>0.0</td>\n",
              "      <td>0.0</td>\n",
              "      <td>0.0</td>\n",
              "      <td>0.0</td>\n",
              "    </tr>\n",
              "  </tbody>\n",
              "</table>\n",
              "<p>70000 rows × 784 columns</p>\n",
              "</div>\n",
              "      <button class=\"colab-df-convert\" onclick=\"convertToInteractive('df-92065e74-1ed8-441d-b919-8e1bddfdd36f')\"\n",
              "              title=\"Convert this dataframe to an interactive table.\"\n",
              "              style=\"display:none;\">\n",
              "        \n",
              "  <svg xmlns=\"http://www.w3.org/2000/svg\" height=\"24px\"viewBox=\"0 0 24 24\"\n",
              "       width=\"24px\">\n",
              "    <path d=\"M0 0h24v24H0V0z\" fill=\"none\"/>\n",
              "    <path d=\"M18.56 5.44l.94 2.06.94-2.06 2.06-.94-2.06-.94-.94-2.06-.94 2.06-2.06.94zm-11 1L8.5 8.5l.94-2.06 2.06-.94-2.06-.94L8.5 2.5l-.94 2.06-2.06.94zm10 10l.94 2.06.94-2.06 2.06-.94-2.06-.94-.94-2.06-.94 2.06-2.06.94z\"/><path d=\"M17.41 7.96l-1.37-1.37c-.4-.4-.92-.59-1.43-.59-.52 0-1.04.2-1.43.59L10.3 9.45l-7.72 7.72c-.78.78-.78 2.05 0 2.83L4 21.41c.39.39.9.59 1.41.59.51 0 1.02-.2 1.41-.59l7.78-7.78 2.81-2.81c.8-.78.8-2.07 0-2.86zM5.41 20L4 18.59l7.72-7.72 1.47 1.35L5.41 20z\"/>\n",
              "  </svg>\n",
              "      </button>\n",
              "      \n",
              "  <style>\n",
              "    .colab-df-container {\n",
              "      display:flex;\n",
              "      flex-wrap:wrap;\n",
              "      gap: 12px;\n",
              "    }\n",
              "\n",
              "    .colab-df-convert {\n",
              "      background-color: #E8F0FE;\n",
              "      border: none;\n",
              "      border-radius: 50%;\n",
              "      cursor: pointer;\n",
              "      display: none;\n",
              "      fill: #1967D2;\n",
              "      height: 32px;\n",
              "      padding: 0 0 0 0;\n",
              "      width: 32px;\n",
              "    }\n",
              "\n",
              "    .colab-df-convert:hover {\n",
              "      background-color: #E2EBFA;\n",
              "      box-shadow: 0px 1px 2px rgba(60, 64, 67, 0.3), 0px 1px 3px 1px rgba(60, 64, 67, 0.15);\n",
              "      fill: #174EA6;\n",
              "    }\n",
              "\n",
              "    [theme=dark] .colab-df-convert {\n",
              "      background-color: #3B4455;\n",
              "      fill: #D2E3FC;\n",
              "    }\n",
              "\n",
              "    [theme=dark] .colab-df-convert:hover {\n",
              "      background-color: #434B5C;\n",
              "      box-shadow: 0px 1px 3px 1px rgba(0, 0, 0, 0.15);\n",
              "      filter: drop-shadow(0px 1px 2px rgba(0, 0, 0, 0.3));\n",
              "      fill: #FFFFFF;\n",
              "    }\n",
              "  </style>\n",
              "\n",
              "      <script>\n",
              "        const buttonEl =\n",
              "          document.querySelector('#df-92065e74-1ed8-441d-b919-8e1bddfdd36f button.colab-df-convert');\n",
              "        buttonEl.style.display =\n",
              "          google.colab.kernel.accessAllowed ? 'block' : 'none';\n",
              "\n",
              "        async function convertToInteractive(key) {\n",
              "          const element = document.querySelector('#df-92065e74-1ed8-441d-b919-8e1bddfdd36f');\n",
              "          const dataTable =\n",
              "            await google.colab.kernel.invokeFunction('convertToInteractive',\n",
              "                                                     [key], {});\n",
              "          if (!dataTable) return;\n",
              "\n",
              "          const docLinkHtml = 'Like what you see? Visit the ' +\n",
              "            '<a target=\"_blank\" href=https://colab.research.google.com/notebooks/data_table.ipynb>data table notebook</a>'\n",
              "            + ' to learn more about interactive tables.';\n",
              "          element.innerHTML = '';\n",
              "          dataTable['output_type'] = 'display_data';\n",
              "          await google.colab.output.renderOutput(dataTable, element);\n",
              "          const docLink = document.createElement('div');\n",
              "          docLink.innerHTML = docLinkHtml;\n",
              "          element.appendChild(docLink);\n",
              "        }\n",
              "      </script>\n",
              "    </div>\n",
              "  </div>\n",
              "  "
            ]
          },
          "metadata": {},
          "execution_count": 6
        }
      ]
    },
    {
      "cell_type": "markdown",
      "source": [
        "<h3>5.2. Show corresponding matrix</h3>"
      ],
      "metadata": {
        "id": "cFoJJXb1PBDf"
      }
    },
    {
      "cell_type": "code",
      "source": [
        "np.array(image.data.iloc[9,:]).reshape(28, 28)"
      ],
      "metadata": {
        "id": "CTTCXKxoo2hI",
        "colab": {
          "base_uri": "https://localhost:8080/"
        },
        "outputId": "58b7ab59-e104-45df-b8a6-2e6cde51e37c"
      },
      "execution_count": null,
      "outputs": [
        {
          "output_type": "execute_result",
          "data": {
            "text/plain": [
              "array([[  0.,   0.,   0.,   0.,   0.,   0.,   0.,   0.,   0.,   0.,   0.,\n",
              "          0.,   0.,   0.,   0.,   0.,   0.,   0.,   0.,   0.,   0.,   0.,\n",
              "          0.,   0.,   0.,   0.,   0.,   0.],\n",
              "       [  0.,   0.,   0.,   0.,   0.,   0.,   0.,   0.,   0.,   0.,   0.,\n",
              "          0.,   0.,   0.,   0.,   0.,   0.,   0.,   0.,   0.,   0.,   0.,\n",
              "          0.,   0.,   0.,   0.,   0.,   0.],\n",
              "       [  0.,   0.,   0.,   0.,   0.,   0.,   0.,   0.,   0.,   0.,   0.,\n",
              "          0.,   0.,   1.,   1.,   0.,   0.,   0.,   0.,   0.,   0.,   0.,\n",
              "        164.,  50.,   0.,   7.,   0.,   0.],\n",
              "       [  0.,   0.,   0.,   0.,   0.,   0.,   0.,   0.,   1.,   0.,   0.,\n",
              "          1.,   0.,   0.,   1.,   1.,   0.,   0.,   5.,   0.,  45., 217.,\n",
              "        255., 176.,   0.,   6.,   0.,   0.],\n",
              "       [  0.,   0.,   0.,   0.,   0.,   0.,   0.,   0.,   0.,   1.,   1.,\n",
              "          0.,   3.,   3.,   5.,   9.,   0.,   2.,   0.,  62., 236., 231.,\n",
              "        215.,  27.,   0.,   1.,   0.,   0.],\n",
              "       [  0.,   0.,   0.,   0.,   0.,   0.,   0.,   0.,   0.,   0.,   0.,\n",
              "          0.,   0.,   0.,   0.,   0.,   0.,   0.,  29., 244., 231., 234.,\n",
              "         74.,   0.,   1.,   0.,   0.,   0.],\n",
              "       [  0.,   0.,   0.,   0.,   0.,   0.,   0.,   0.,   0.,   2.,   0.,\n",
              "          0.,   0.,  23.,  41.,  59., 111., 134., 138., 226., 202., 217.,\n",
              "         22.,   0.,   1.,   0.,   0.,   0.],\n",
              "       [  0.,   0.,   0.,   0.,   0.,   0.,   0.,   0.,   0.,   5.,   0.,\n",
              "         35., 179., 195., 182., 225., 198., 241., 177., 199., 205., 210.,\n",
              "         26.,   0.,   1.,   0.,   0.,   3.],\n",
              "       [  0.,   0.,   0.,   0.,   0.,   0.,   0.,   0.,   0.,   0.,   0.,\n",
              "          0.,  19.,   0.,   0.,   0.,   0.,   0., 235., 243., 198., 119.,\n",
              "          0.,   3.,   1.,   3.,   4.,   0.],\n",
              "       [  0.,   0.,   0.,   0.,   0.,   0.,   0.,   0.,   0.,   0.,   0.,\n",
              "          0.,   0.,   2.,   5.,   0.,   0.,   0., 170., 252., 181., 182.,\n",
              "          0.,   0.,   0.,   0.,   0.,  19.],\n",
              "       [  0.,   0.,   0.,   0.,   0.,   0.,   0.,   0.,   0.,   0.,   0.,\n",
              "          0.,   1.,   1.,   0.,   0.,   4.,   0.,  76., 255., 183., 219.,\n",
              "          9.,   0.,   0.,  42., 191., 164.],\n",
              "       [  0.,   0.,   0.,   0.,   0.,   0.,   0.,   0.,   0.,   0.,   0.,\n",
              "          0.,   0.,   0.,   0.,   0.,   2.,   0.,   0., 237., 198., 204.,\n",
              "         75.,  47., 221., 221., 238.,  25.],\n",
              "       [  0.,   0.,   0.,   0.,   0.,   0.,   0.,   0.,   0.,   0.,   0.,\n",
              "          1.,   0.,   0.,   1.,   2.,   1.,   0.,   0., 209., 212., 229.,\n",
              "        255., 254., 232., 227., 174.,   0.],\n",
              "       [  0.,   0.,   0.,   0.,   0.,   0.,   0.,   0.,   0.,   0.,   0.,\n",
              "          0.,   0.,   0.,   1.,   0.,   0.,   0.,   0.,   0., 210., 255.,\n",
              "         87., 101., 230., 238., 105.,   0.],\n",
              "       [  0.,   0.,   0.,   0.,   0.,   0.,   0.,   0.,   0.,   0.,   0.,\n",
              "          0.,   0.,   1.,   0.,   4.,   1.,   0.,   1., 250., 236.,   0.,\n",
              "          0.,   0., 224., 233.,  20.,   0.],\n",
              "       [  0.,   0.,   0.,   0.,   0.,   1.,   3.,   4.,   4.,   2.,   0.,\n",
              "          0.,   0.,   1.,   0.,   2.,   0.,   0., 204., 185.,   0.,   0.,\n",
              "          0.,   6., 227., 202.,   0.,   0.],\n",
              "       [  0.,   1.,   0.,   1.,   0.,   0.,   0.,   0.,   0.,   0.,   0.,\n",
              "          0.,   0.,   1.,   0.,   0.,   0., 173., 159.,   0.,   0.,   2.,\n",
              "          0.,  10., 237., 153.,   0.,   0.],\n",
              "       [  0.,   0.,   1.,   0.,   0.,   0.,   0.,  40., 138.,  21.,   0.,\n",
              "          0.,   2.,   0.,   8.,   0., 132., 195.,   0.,   0.,   0.,   0.,\n",
              "          0.,   8., 240., 118.,   0.,   1.],\n",
              "       [  5.,   6.,   4.,   0., 132., 232., 208., 208., 241., 217.,   0.,\n",
              "          0.,   0.,   1.,   0.,  29., 217.,  35.,   0.,   9.,   0.,   2.,\n",
              "          0.,  25., 238.,  58.,   0.,   2.],\n",
              "       [  0.,   0.,   0.,   0., 181., 255., 231., 233., 219., 238.,  77.,\n",
              "          0.,   0.,   0.,   0., 196., 145.,   0.,   0.,   0.,   0.,   2.,\n",
              "          0.,  49., 228.,   0.,   0.,   2.],\n",
              "       [ 62.,  92.,   8.,   0., 207., 255., 216., 198., 189., 208., 221.,\n",
              "          0.,   0.,   0., 177., 239.,  19.,   0.,   0.,   0.,   0.,   2.,\n",
              "          0.,  64., 218.,   0.,   0.,   3.],\n",
              "       [ 96., 249., 223., 211., 237., 243., 211., 228., 255., 252., 255.,\n",
              "        138.,  38., 175., 242., 173.,   0.,   0.,   0.,   0.,   0.,   2.,\n",
              "          0.,  89., 204.,   0.,   0.,   2.],\n",
              "       [  0., 197., 240., 240., 237., 219., 222., 244., 235., 243., 244.,\n",
              "        255., 255., 234., 233.,  45.,   0.,   2.,   0.,   0.,   0.,   2.,\n",
              "          0., 105., 188.,   0.,   0.,   0.],\n",
              "       [  0., 165., 253., 224., 229., 242., 244., 232., 239., 242., 243.,\n",
              "        237., 230., 230., 207.,   0.,   0.,   1.,   0.,   0.,   0.,   9.,\n",
              "          0., 120., 165.,   0.,   8.,   0.],\n",
              "       [  0.,  45., 255., 252., 253., 241., 229., 223., 230., 235., 240.,\n",
              "        239., 233., 245.,  65.,   0.,   2.,   0.,   0.,   0.,   0.,  10.,\n",
              "          0., 128., 143.,   0.,  10.,   0.],\n",
              "       [  0.,   0.,   0.,  72., 202., 255., 255., 255., 255., 255., 255.,\n",
              "        255., 255., 194.,   0.,   0.,   2.,   0.,   0.,   0.,   0.,   8.,\n",
              "          0., 186., 160.,   0.,   9.,   0.],\n",
              "       [  0.,   0.,   0.,   0.,   0.,   0.,  38.,  89., 135., 162., 180.,\n",
              "        179., 152.,   0.,   0.,   1.,   0.,   0.,   0.,   0.,   0.,   1.,\n",
              "          0.,  68.,  29.,   0.,   3.,   0.],\n",
              "       [  0.,   0.,   0.,   0.,   0.,   0.,   0.,   0.,   0.,   0.,   0.,\n",
              "          0.,   0.,   0.,   0.,   0.,   0.,   0.,   0.,   0.,   0.,   0.,\n",
              "          0.,   0.,   0.,   0.,   0.,   0.]])"
            ]
          },
          "metadata": {},
          "execution_count": 13
        }
      ]
    },
    {
      "cell_type": "markdown",
      "source": [
        "<h3>5.3. Understand the data</h3>\n",
        "<p>The labelling of each observation is determined by the values of each individual pixel. Each of the 784 pixels is given a value ranging from 0 to 255. A value of 0 represents black, a value of 255 represents white, and every value in between is a shade of grey. The amount of these pixels and how they are grouped determines how each observation is labelled. For example, an observation with more black pixels, those of which are grouped closer to the bottom, is more likely to be a sneaker than a dress or shirt. It should be noted that each observation is not to the same scale so this explanation does not hold true. It is simply intended to aid the understanding of the classification process.</p>"
      ],
      "metadata": {
        "id": "2_6j-wyRO44f"
      }
    },
    {
      "cell_type": "markdown",
      "source": [
        "<h2><strong>6. Build a Logistic Regression Model</strong></h2>"
      ],
      "metadata": {
        "id": "qiu4cXcaNBnc"
      }
    },
    {
      "cell_type": "markdown",
      "source": [
        "<h3>6.1. Load packages</h3>\n"
      ],
      "metadata": {
        "id": "ktk34q_DeC22"
      }
    },
    {
      "cell_type": "code",
      "source": [
        "from sklearn.model_selection import train_test_split\n",
        "from sklearn.linear_model import LogisticRegression\n",
        "from sklearn.metrics import confusion_matrix, classification_report"
      ],
      "metadata": {
        "id": "2ZpCDDPiy0ll"
      },
      "execution_count": null,
      "outputs": []
    },
    {
      "cell_type": "markdown",
      "source": [
        "<h3>6.2. Select target variable</h3>"
      ],
      "metadata": {
        "id": "fZQf_YlveGWb"
      }
    },
    {
      "cell_type": "code",
      "source": [
        "y = image.target\n",
        "y[0]"
      ],
      "metadata": {
        "colab": {
          "base_uri": "https://localhost:8080/",
          "height": 36
        },
        "id": "oajgTH9fvhk2",
        "outputId": "f6d6399d-9b27-4c93-ac27-646b96d3703c"
      },
      "execution_count": null,
      "outputs": [
        {
          "output_type": "execute_result",
          "data": {
            "text/plain": [
              "'9'"
            ],
            "application/vnd.google.colaboratory.intrinsic+json": {
              "type": "string"
            }
          },
          "metadata": {},
          "execution_count": 9
        }
      ]
    },
    {
      "cell_type": "markdown",
      "source": [
        "<h3>6.3. Prepare data</h3>"
      ],
      "metadata": {
        "id": "Awd0QzP1eKSj"
      }
    },
    {
      "cell_type": "code",
      "source": [
        "n_samples = len(image.data)\n",
        "n_samples"
      ],
      "metadata": {
        "colab": {
          "base_uri": "https://localhost:8080/"
        },
        "id": "UlQej2jrykqh",
        "outputId": "13f3c1c8-edbf-474e-edeb-77fe6940ca37"
      },
      "execution_count": null,
      "outputs": [
        {
          "output_type": "execute_result",
          "data": {
            "text/plain": [
              "70000"
            ]
          },
          "metadata": {},
          "execution_count": 10
        }
      ]
    },
    {
      "cell_type": "code",
      "source": [
        "X = image.data\n",
        "X.shape"
      ],
      "metadata": {
        "colab": {
          "base_uri": "https://localhost:8080/"
        },
        "id": "tiVsTxngyraC",
        "outputId": "e4b54f07-12a6-4256-f47f-74388f44997e"
      },
      "execution_count": null,
      "outputs": [
        {
          "output_type": "execute_result",
          "data": {
            "text/plain": [
              "(70000, 784)"
            ]
          },
          "metadata": {},
          "execution_count": 11
        }
      ]
    },
    {
      "cell_type": "markdown",
      "source": [
        "<h3>6.4. Split data into training and validation set</h3>\n",
        "<p> The data is split into a training data set and a testing data set in order to understand the performance of the model."
      ],
      "metadata": {
        "id": "tjFA6ZKNYlKF"
      }
    },
    {
      "cell_type": "code",
      "source": [
        "X_train, X_test, y_train, y_test = train_test_split(X, y, train_size = 0.8,random_state=0)"
      ],
      "metadata": {
        "id": "98NqJNYS2Mnr"
      },
      "execution_count": null,
      "outputs": []
    },
    {
      "cell_type": "markdown",
      "source": [
        "<h3>6.5. Select a linear regression classifier</h3>"
      ],
      "metadata": {
        "id": "L0T8pvnRYs_W"
      }
    },
    {
      "cell_type": "code",
      "source": [
        "lr = LogisticRegression(solver = 'lbfgs', max_iter = 100)"
      ],
      "metadata": {
        "id": "I5zO3Xge2rJ7"
      },
      "execution_count": null,
      "outputs": []
    },
    {
      "cell_type": "markdown",
      "source": [
        "<h3>6.6. Fit the data</h3>\n",
        "<p>The model is fitted on the training data using the fit() function."
      ],
      "metadata": {
        "id": "lPsuPvbmePey"
      }
    },
    {
      "cell_type": "code",
      "source": [
        "# Fit model on the training data\n",
        "lr.fit(X_train, y_train)"
      ],
      "metadata": {
        "colab": {
          "base_uri": "https://localhost:8080/"
        },
        "id": "ELjBrw1o2uNH",
        "outputId": "5721b780-9da8-43c8-ce3e-1739d2ce7d6a"
      },
      "execution_count": null,
      "outputs": [
        {
          "output_type": "stream",
          "name": "stderr",
          "text": [
            "/usr/local/lib/python3.7/dist-packages/sklearn/linear_model/_logistic.py:818: ConvergenceWarning: lbfgs failed to converge (status=1):\n",
            "STOP: TOTAL NO. of ITERATIONS REACHED LIMIT.\n",
            "\n",
            "Increase the number of iterations (max_iter) or scale the data as shown in:\n",
            "    https://scikit-learn.org/stable/modules/preprocessing.html\n",
            "Please also refer to the documentation for alternative solver options:\n",
            "    https://scikit-learn.org/stable/modules/linear_model.html#logistic-regression\n",
            "  extra_warning_msg=_LOGISTIC_SOLVER_CONVERGENCE_MSG,\n"
          ]
        },
        {
          "output_type": "execute_result",
          "data": {
            "text/plain": [
              "LogisticRegression()"
            ]
          },
          "metadata": {},
          "execution_count": 15
        }
      ]
    },
    {
      "cell_type": "markdown",
      "source": [
        "<h3>6.7. Prediction of unseen data</h3>\n",
        "<p>Use the predict() function to perform a prediction on the testing data set.</p>"
      ],
      "metadata": {
        "id": "6UOglJW0eS5-"
      }
    },
    {
      "cell_type": "code",
      "source": [
        "# Make a prediction on the testing data\n",
        "y_pred = lr.predict(X_test)\n",
        "y_pred"
      ],
      "metadata": {
        "colab": {
          "base_uri": "https://localhost:8080/"
        },
        "id": "yswDniYj2-5D",
        "outputId": "464deec3-d2fe-4092-e2bb-01f58ec8e157"
      },
      "execution_count": null,
      "outputs": [
        {
          "output_type": "execute_result",
          "data": {
            "text/plain": [
              "array(['9', '5', '6', ..., '6', '1', '8'], dtype=object)"
            ]
          },
          "metadata": {},
          "execution_count": 16
        }
      ]
    },
    {
      "cell_type": "markdown",
      "source": [
        "<h2><strong>7. Analysis of results - classification report</strong></h2>"
      ],
      "metadata": {
        "id": "lAi_C8yheYLN"
      }
    },
    {
      "cell_type": "code",
      "source": [
        "score = lr.score(X_test, y_test)\n",
        "print(score)"
      ],
      "metadata": {
        "colab": {
          "base_uri": "https://localhost:8080/"
        },
        "id": "gcR_eNfy3DZh",
        "outputId": "efca0544-87d1-4cf4-a0d5-d8a20e3b6eae"
      },
      "execution_count": null,
      "outputs": [
        {
          "output_type": "stream",
          "name": "stdout",
          "text": [
            "0.8492857142857143\n"
          ]
        }
      ]
    },
    {
      "cell_type": "markdown",
      "source": [
        "<h3>7.1. Create confustion matrix</h3>\n",
        "<p>We use a confusion matrix to assess the model's performance. The confusion matrix comes in the form of a table with each row and column representing each label. The corresponding values indicate the number or correct and incorrect predictions.</p>"
      ],
      "metadata": {
        "id": "LlKG8CFwed43"
      }
    },
    {
      "cell_type": "code",
      "source": [
        "confusion_matrix(y_test, y_pred)"
      ],
      "metadata": {
        "colab": {
          "base_uri": "https://localhost:8080/"
        },
        "id": "eY9skGhj3Fsf",
        "outputId": "c11a67a3-79b5-4d66-9f05-a7c50a4caece"
      },
      "execution_count": null,
      "outputs": [
        {
          "output_type": "execute_result",
          "data": {
            "text/plain": [
              "array([[1156,    8,   28,   77,    4,    1,  102,    2,   12,    1],\n",
              "       [   5, 1361,    9,   36,    9,    0,    2,    0,    2,    0],\n",
              "       [  17,    5, 1034,   14,  183,    2,  100,    0,   10,    1],\n",
              "       [  55,   21,   16, 1245,   73,    1,   37,    2,    5,    0],\n",
              "       [   1,    0,  109,   38, 1128,    0,  107,    0,    5,    0],\n",
              "       [   2,    1,    0,    0,    0, 1266,    0,   73,   14,   41],\n",
              "       [ 217,    5,  170,   42,  162,    0,  853,    1,   23,    0],\n",
              "       [   0,    0,    0,    0,    0,   40,    0, 1249,    4,   61],\n",
              "       [   4,    0,   11,    8,    4,   11,   17,   13, 1273,    0],\n",
              "       [   1,    0,    0,    0,    0,   21,    0,   58,    6, 1325]])"
            ]
          },
          "metadata": {},
          "execution_count": 18
        }
      ]
    },
    {
      "cell_type": "markdown",
      "source": [
        "<h3>7.2. Visualise correct prediction</h3>"
      ],
      "metadata": {
        "id": "wpGfABqFehKd"
      }
    },
    {
      "cell_type": "code",
      "source": [
        "images_and_predictions = list(zip(image.data, lr.predict(X)))"
      ],
      "metadata": {
        "id": "rsZuvjRy3rS4"
      },
      "execution_count": null,
      "outputs": []
    },
    {
      "cell_type": "code",
      "source": [
        "plt.figure(figsize=(10,2))\n",
        "for idx in range(5):\n",
        "  images = image.data.iloc[idx,:]\n",
        "  prediction = lr.predict(X)[idx]\n",
        "  plt.subplot(1,5,idx+1)\n",
        "  plt.axis(\"off\")\n",
        "  plt.imshow(np.array(images).reshape(28, 28), cmap=plt.cm.gray_r,interpolation='nearest')\n",
        "  plt.title('Prediction: %i' % int(prediction))\n",
        "  plt.show()"
      ],
      "metadata": {
        "id": "Rv0tAyvz3wQ5",
        "colab": {
          "base_uri": "https://localhost:8080/",
          "height": 495
        },
        "outputId": "202718f9-e0be-41fb-cb33-c42232d0c38d"
      },
      "execution_count": null,
      "outputs": [
        {
          "output_type": "display_data",
          "data": {
            "text/plain": [
              "<Figure size 720x144 with 1 Axes>"
            ],
            "image/png": "[encoded data removed]"
          },
          "metadata": {
            "needs_background": "light"
          }
        },
        {
          "output_type": "display_data",
          "data": {
            "text/plain": [
              "<Figure size 432x288 with 1 Axes>"
            ],
            "image/png": "[encoded data removed]"
          },
          "metadata": {
            "needs_background": "light"
          }
        },
        {
          "output_type": "display_data",
          "data": {
            "text/plain": [
              "<Figure size 432x288 with 1 Axes>"
            ],
            "image/png": "[encoded data removed]"
          },
          "metadata": {
            "needs_background": "light"
          }
        },
        {
          "output_type": "display_data",
          "data": {
            "text/plain": [
              "<Figure size 432x288 with 1 Axes>"
            ],
            "image/png": "[encoded data removed]"
          },
          "metadata": {
            "needs_background": "light"
          }
        },
        {
          "output_type": "display_data",
          "data": {
            "text/plain": [
              "<Figure size 432x288 with 1 Axes>"
            ],
            "image/png": "[encoded data removed]"
          },
          "metadata": {
            "needs_background": "light"
          }
        }
      ]
    },
    {
      "cell_type": "markdown",
      "source": [
        "<h3>7.3. Visualise misclassified images</h3>"
      ],
      "metadata": {
        "id": "iyje_vuEelQa"
      }
    },
    {
      "cell_type": "code",
      "source": [
        "index = 0\n",
        "misclassifiedIndexes = []\n",
        "for label, predict in zip(y_test, y_pred):\n",
        "  if label != predict:\n",
        "    misclassifiedIndexes.append(index)\n",
        "  index +=1\n",
        "\n",
        "misclassifiedIndexes[:5]"
      ],
      "metadata": {
        "colab": {
          "base_uri": "https://localhost:8080/"
        },
        "id": "dMEN3swH4Lg7",
        "outputId": "9198e29f-f2f2-4777-ed21-8896357d86fa"
      },
      "execution_count": null,
      "outputs": [
        {
          "output_type": "execute_result",
          "data": {
            "text/plain": [
              "[4, 14, 16, 34, 40]"
            ]
          },
          "metadata": {},
          "execution_count": 21
        }
      ]
    },
    {
      "cell_type": "code",
      "source": [
        "y_pred[4]"
      ],
      "metadata": {
        "colab": {
          "base_uri": "https://localhost:8080/",
          "height": 36
        },
        "id": "UKytepEk4XD_",
        "outputId": "e6d41d1b-6130-4cc7-b43f-6cd0b46bcfd2"
      },
      "execution_count": null,
      "outputs": [
        {
          "output_type": "execute_result",
          "data": {
            "text/plain": [
              "'6'"
            ],
            "application/vnd.google.colaboratory.intrinsic+json": {
              "type": "string"
            }
          },
          "metadata": {},
          "execution_count": 22
        }
      ]
    },
    {
      "cell_type": "code",
      "source": [
        "np.array(y_test)[:5]"
      ],
      "metadata": {
        "colab": {
          "base_uri": "https://localhost:8080/"
        },
        "id": "ci7z5QHD4ZTj",
        "outputId": "f7fe1d97-ffed-4383-8e93-e247d2e9b46e"
      },
      "execution_count": null,
      "outputs": [
        {
          "output_type": "execute_result",
          "data": {
            "text/plain": [
              "array(['9', '5', '6', '6', '2'], dtype=object)"
            ]
          },
          "metadata": {},
          "execution_count": 23
        }
      ]
    },
    {
      "cell_type": "code",
      "source": [
        "plt.figure(figsize=(18,18))\n",
        "for plotIndex, badIndex in enumerate(misclassifiedIndexes[0:12]):\n",
        "  plt.subplot(3, 4, plotIndex + 1)\n",
        "  plt.axis(\"off\")\n",
        "  plt.imshow(np.array(X_test.iloc[badIndex, :]).reshape(28, 28), cmap=plt.cm.gray, interpolation='nearest')\n",
        "  plt.title('Predicted: {}, Actual: {}'.format(y_pred[badIndex], np.array(y_test)[badIndex]), fontsize = 20)"
      ],
      "metadata": {
        "colab": {
          "base_uri": "https://localhost:8080/",
          "height": 961
        },
        "id": "jn-u8X3b4fY6",
        "outputId": "1a096e37-f9ac-467f-cdee-92c2ec97089c"
      },
      "execution_count": null,
      "outputs": [
        {
          "output_type": "display_data",
          "data": {
            "text/plain": [
              "<Figure size 1296x1296 with 12 Axes>"
            ],
            "image/png": "[encoded data removed]"
          },
          "metadata": {
            "needs_background": "light"
          }
        }
      ]
    },
    {
      "cell_type": "markdown",
      "source": [
        "<h3>7.4. Visualise correct images</h3>"
      ],
      "metadata": {
        "id": "AqXrSmm4erxU"
      }
    },
    {
      "cell_type": "code",
      "source": [
        "index = 0\n",
        "classifiedIndexes = []\n",
        "for label, predict in zip(y_test, y_pred):\n",
        "  if label == predict:\n",
        "    classifiedIndexes.append(index)\n",
        "  index +=1\n",
        "\n",
        "classifiedIndexes[:5]"
      ],
      "metadata": {
        "colab": {
          "base_uri": "https://localhost:8080/"
        },
        "id": "ki1PQSWcT9hx",
        "outputId": "707035d0-5ea0-41e6-9781-e7afa52bd5e3"
      },
      "execution_count": null,
      "outputs": [
        {
          "output_type": "execute_result",
          "data": {
            "text/plain": [
              "[0, 1, 2, 3, 5]"
            ]
          },
          "metadata": {},
          "execution_count": 25
        }
      ]
    },
    {
      "cell_type": "code",
      "source": [
        "plt.figure(figsize=(18,18))\n",
        "for plotIndex, goodIndex in enumerate(classifiedIndexes[0:12]):\n",
        "  plt.subplot(3, 4, plotIndex + 1)\n",
        "  plt.axis(\"off\")\n",
        "  plt.imshow(np.array(X_test.iloc[goodIndex, :]).reshape(28, 28), cmap=plt.cm.gray, interpolation='nearest')\n",
        "  plt.title('Predicted: {}, Actual: {}'.format(y_pred[goodIndex], np.array(y_test)[goodIndex]), fontsize = 20)"
      ],
      "metadata": {
        "colab": {
          "base_uri": "https://localhost:8080/",
          "height": 961
        },
        "id": "P3noE_FpUua2",
        "outputId": "150cb557-abb6-4330-e2a0-523ce820eb0d"
      },
      "execution_count": null,
      "outputs": [
        {
          "output_type": "display_data",
          "data": {
            "text/plain": [
              "<Figure size 1296x1296 with 12 Axes>"
            ],
            "image/png": "[encoded data removed]"
          },
          "metadata": {
            "needs_background": "light"
          }
        }
      ]
    },
    {
      "cell_type": "markdown",
      "source": [
        "<h2><strong>8. Save trained model and explain how you would use it for new unseen data.</strong></h2>\n",
        "<p>The differentiation between the labels is very ambiguous, as evident in the misclassified images. A few examples include ambiguity between shirts and pullovers, coats and shirts, sneakers and ankle boots, and several more. A particularly prominent example of this is the first images from the first and second rows. This may be attributed to the low resolution of the images used. It appears that the fine details that separate each clothing item are difficult to categorise in a 28x28 pixel image. When applying this model to unseen data, using higher resolution images would improve the definition of each class and would result in fewer ambiguities. Another alternative to improving the accuracy of the model is to implement fewer classes, potentially combining classes such as “sneaker”, “ankle boot”, and “sandal” into a more general “footwear” class. Although, this may lower the overall complexity of the model. <p>"
      ],
      "metadata": {
        "id": "yGF9-WfpOTp9"
      }
    },
    {
      "cell_type": "code",
      "source": [
        "# save the model to local storage\n",
        "filename = 'lg_F_MNIST.sav'\n",
        "pickle.dump(lr, open(filename, 'wb'))\n",
        "\n",
        "# load the saved model\n",
        "loaded_model = pickle.load(open(filename, 'rb'))\n",
        "result = loaded_model.score(X_test, y_test)\n",
        "\n",
        "# print accuracy score\n",
        "print(result)"
      ],
      "metadata": {
        "id": "wcz2LBBYid78",
        "colab": {
          "base_uri": "https://localhost:8080/"
        },
        "outputId": "23514f05-096a-436b-9222-7a1aaefffa5e"
      },
      "execution_count": null,
      "outputs": [
        {
          "output_type": "stream",
          "name": "stdout",
          "text": [
            "0.8492857142857143\n"
          ]
        }
      ]
    },
    {
      "cell_type": "markdown",
      "source": [
        "<h2><strong>References</strong></h2>\n",
        "<p>[1] www.kaggle.com. (n.d.). Fashion MNIST. [online] Available at: https://www.kaggle.com/datasets/zalando-research/fashionmnist [Accessed 1 Sep. 2022].\n",
        "</p>\n",
        "<p>[2] scipython.com. (n.d.). Logistic regression for image classification. [online] Available at: https://scipython.com/blog/logistic-regression-for-image-classification/ [Accessed 1 Sep. 2022].</p>\n"
      ],
      "metadata": {
        "id": "ZwtbDjh1Fkfm"
      }
    }
  ]
}
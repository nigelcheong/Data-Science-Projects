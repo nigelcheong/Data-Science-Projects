{
  "cells": [
    {
      "cell_type": "code",
      "execution_count": null,
      "metadata": {
        "id": "0ougMZqmT-CC"
      },
      "outputs": [],
      "source": [
        "# data numerical processing\n",
        "import pandas as pd\n",
        "import numpy as np\n",
        "\n",
        "# statistical visuallization\n",
        "import seaborn as sns\n",
        "\n",
        "# StandardScalar normalizing numeric data and making a mean 0\n",
        "from sklearn.preprocessing import StandardScaler, MinMaxScaler, scale\n",
        "\n",
        "# split the data to train/test dataset\n",
        "from sklearn.model_selection import train_test_split\n",
        "\n",
        "# data visualization and graphical plotting\n",
        "import matplotlib.pyplot as plt"
      ]
    },
    {
      "cell_type": "markdown",
      "source": [
        "## Select a dataset for your project – you may use the 10 times rule to just check on the size of your data! The rule is if you have x number of parameters to model you should have at least 10x data records to train. For example, if you want to classify cats and dogs based on 1000 parameters, you will need 10,000 pictures to train the model."
      ],
      "metadata": {
        "id": "Vw5c5rynpNDW"
      }
    },
    {
      "cell_type": "markdown",
      "source": [
        "Our study aims to produce a traffic model that can represent the flow of traffic in the ACT. To do so, we utilise the ‘Traffic Link Stats’ dataset provided by Open Data Portal dataACT [1]. In our model, the dataset is supplied via shared Google Drive in which the dataset is saved in CSV format. The chosen dataset consists of 20 variables and 21,691,360 observations in its raw form, and contains performance statistics with geometry of traffic flow recorded at a sequence of 5 minutes between 25-05-2020 to 28-07-2022. During the dataset collection process, a variable ‘Line’ was omitted due to insufficient information. The dataset was sampled to contain only the most recent 1 millions observations for further processes due to limited computational power available. Once the sampling process is completed, the resulting dataset is exported and saved as a CSV file in Google Drive and is available via a link for the purpose of recreating the project."
      ],
      "metadata": {
        "id": "3HhE05QXoyC9"
      }
    },
    {
      "cell_type": "code",
      "source": [
        "# # Import raw dataset from google drive\n",
        "# from google.colab import drive\n",
        "# drive.mount('/content/drive')\n",
        "\n",
        "# # import raw dataset\n",
        "# Data_Path = '/content/drive/MyDrive/11482_PRLM_Colab/data/Traffic_Links_Stats.csv'\n",
        "# # collect last 1 million rows and exclude a varialbe 'Link'\n",
        "# traffic_df = pd.read_csv(Data_Path, skiprows=range(1,21691361-1000000), usecols = [i for i in range(19)])\n",
        "\n",
        "# # export dataset into a csv file and save to google drive\n",
        "# traffic_df.to_csv(r'/content/drive/MyDrive/11482_PRLM_Colab/Traffic_Links_Stats_sampled.csv')\n",
        "\n",
        "# Import the saved dataset\n",
        "# To recreate this project the dataset is available via link: https://drive.google.com/file/d/1CFC2L_nbL5nLAYFbB6HEuabPFfavsGsG/view?usp=sharing\n",
        "# or run the code below to directly downlaod the dataset\n",
        "import json\n",
        "traffic_df = pd.read_csv('https://drive.google.com/uc?export=download&confirm=9iBg&id=1CFC2L_nbL5nLAYFbB6HEuabPFfavsGsG', converters = {'Trend': json.loads}, index_col=[0])\n",
        "\n",
        "# Remove unnecessary strings\n",
        "traffic_df['IntervalStart'] = traffic_df['IntervalStart'].str[:15].str.replace('T',' ')\n",
        "\n",
        "# Parsing into timestamp format\n",
        "from datetime import datetime\n",
        "traffic_df['IntervalStart'] = pd.to_datetime(traffic_df['IntervalStart'])\n",
        "\n",
        "# first 3 rows\n",
        "traffic_df.head(3)"
      ],
      "metadata": {
        "colab": {
          "base_uri": "https://localhost:8080/",
          "height": 780
        },
        "id": "pH66z5xaJp4U",
        "outputId": "78ac9661-37cc-4c69-f503-9f370f606e93"
      },
      "execution_count": null,
      "outputs": [
        {
          "output_type": "execute_result",
          "data": {
            "text/plain": [
              "   Closed  Congestion  Delay  DestSiteId Direction  EnoughData  ExcessDelay  \\\n",
              "0   False           2      5          79       SWB       False           26   \n",
              "1   False           0     15          52         N        True          -23   \n",
              "2   False           0    -12       10017        EB        True          -19   \n",
              "\n",
              "    Id       IntervalStart  IsFreeway  Length  MinNumberOfLanes  MinTT  \\\n",
              "0  507 2021-09-03 10:05:00      False     616                 1    107   \n",
              "1    9 2021-09-03 10:05:00      False     889                 1     45   \n",
              "2  467 2021-09-03 10:05:00      False     249                 1     13   \n",
              "\n",
              "                                               Name  OriginSiteId  Score  \\\n",
              "0        Edinburgh Av - Vernon Circle to Parkes Way         10027      0   \n",
              "1  Coulter Dr  - Belconnen Way to Southern Cross Dr            38      0   \n",
              "2        Lanyon Dr - Monaro Hwy NB to Monaro Hwy SB           231      0   \n",
              "\n",
              "   Speed   TT                                             Trend  \n",
              "0     19  112  [85, 84, 83, 82, 81, 80, 79, 78, 77, 76, 75, 74]  \n",
              "1     53   60  [77, 72, 70, 69, 61, 54, 51, 49, 48, 49, 56, 69]  \n",
              "2    300    1  [18, 18, 17, 16, 15, 14, 18, 19, 15, 17, 17, 17]  "
            ],
            "text/html": [
              "\n",
              "  <div id=\"df-959cc6a7-ae2f-4f4f-b6f2-89ff2fb62c5b\">\n",
              "    <div class=\"colab-df-container\">\n",
              "      <div>\n",
              "<style scoped>\n",
              "    .dataframe tbody tr th:only-of-type {\n",
              "        vertical-align: middle;\n",
              "    }\n",
              "\n",
              "    .dataframe tbody tr th {\n",
              "        vertical-align: top;\n",
              "    }\n",
              "\n",
              "    .dataframe thead th {\n",
              "        text-align: right;\n",
              "    }\n",
              "</style>\n",
              "<table border=\"1\" class=\"dataframe\">\n",
              "  <thead>\n",
              "    <tr style=\"text-align: right;\">\n",
              "      <th></th>\n",
              "      <th>Closed</th>\n",
              "      <th>Congestion</th>\n",
              "      <th>Delay</th>\n",
              "      <th>DestSiteId</th>\n",
              "      <th>Direction</th>\n",
              "      <th>EnoughData</th>\n",
              "      <th>ExcessDelay</th>\n",
              "      <th>Id</th>\n",
              "      <th>IntervalStart</th>\n",
              "      <th>IsFreeway</th>\n",
              "      <th>Length</th>\n",
              "      <th>MinNumberOfLanes</th>\n",
              "      <th>MinTT</th>\n",
              "      <th>Name</th>\n",
              "      <th>OriginSiteId</th>\n",
              "      <th>Score</th>\n",
              "      <th>Speed</th>\n",
              "      <th>TT</th>\n",
              "      <th>Trend</th>\n",
              "    </tr>\n",
              "  </thead>\n",
              "  <tbody>\n",
              "    <tr>\n",
              "      <th>0</th>\n",
              "      <td>False</td>\n",
              "      <td>2</td>\n",
              "      <td>5</td>\n",
              "      <td>79</td>\n",
              "      <td>SWB</td>\n",
              "      <td>False</td>\n",
              "      <td>26</td>\n",
              "      <td>507</td>\n",
              "      <td>2021-09-03 10:05:00</td>\n",
              "      <td>False</td>\n",
              "      <td>616</td>\n",
              "      <td>1</td>\n",
              "      <td>107</td>\n",
              "      <td>Edinburgh Av - Vernon Circle to Parkes Way</td>\n",
              "      <td>10027</td>\n",
              "      <td>0</td>\n",
              "      <td>19</td>\n",
              "      <td>112</td>\n",
              "      <td>[85, 84, 83, 82, 81, 80, 79, 78, 77, 76, 75, 74]</td>\n",
              "    </tr>\n",
              "    <tr>\n",
              "      <th>1</th>\n",
              "      <td>False</td>\n",
              "      <td>0</td>\n",
              "      <td>15</td>\n",
              "      <td>52</td>\n",
              "      <td>N</td>\n",
              "      <td>True</td>\n",
              "      <td>-23</td>\n",
              "      <td>9</td>\n",
              "      <td>2021-09-03 10:05:00</td>\n",
              "      <td>False</td>\n",
              "      <td>889</td>\n",
              "      <td>1</td>\n",
              "      <td>45</td>\n",
              "      <td>Coulter Dr  - Belconnen Way to Southern Cross Dr</td>\n",
              "      <td>38</td>\n",
              "      <td>0</td>\n",
              "      <td>53</td>\n",
              "      <td>60</td>\n",
              "      <td>[77, 72, 70, 69, 61, 54, 51, 49, 48, 49, 56, 69]</td>\n",
              "    </tr>\n",
              "    <tr>\n",
              "      <th>2</th>\n",
              "      <td>False</td>\n",
              "      <td>0</td>\n",
              "      <td>-12</td>\n",
              "      <td>10017</td>\n",
              "      <td>EB</td>\n",
              "      <td>True</td>\n",
              "      <td>-19</td>\n",
              "      <td>467</td>\n",
              "      <td>2021-09-03 10:05:00</td>\n",
              "      <td>False</td>\n",
              "      <td>249</td>\n",
              "      <td>1</td>\n",
              "      <td>13</td>\n",
              "      <td>Lanyon Dr - Monaro Hwy NB to Monaro Hwy SB</td>\n",
              "      <td>231</td>\n",
              "      <td>0</td>\n",
              "      <td>300</td>\n",
              "      <td>1</td>\n",
              "      <td>[18, 18, 17, 16, 15, 14, 18, 19, 15, 17, 17, 17]</td>\n",
              "    </tr>\n",
              "  </tbody>\n",
              "</table>\n",
              "</div>\n",
              "      <button class=\"colab-df-convert\" onclick=\"convertToInteractive('df-959cc6a7-ae2f-4f4f-b6f2-89ff2fb62c5b')\"\n",
              "              title=\"Convert this dataframe to an interactive table.\"\n",
              "              style=\"display:none;\">\n",
              "        \n",
              "  <svg xmlns=\"http://www.w3.org/2000/svg\" height=\"24px\"viewBox=\"0 0 24 24\"\n",
              "       width=\"24px\">\n",
              "    <path d=\"M0 0h24v24H0V0z\" fill=\"none\"/>\n",
              "    <path d=\"M18.56 5.44l.94 2.06.94-2.06 2.06-.94-2.06-.94-.94-2.06-.94 2.06-2.06.94zm-11 1L8.5 8.5l.94-2.06 2.06-.94-2.06-.94L8.5 2.5l-.94 2.06-2.06.94zm10 10l.94 2.06.94-2.06 2.06-.94-2.06-.94-.94-2.06-.94 2.06-2.06.94z\"/><path d=\"M17.41 7.96l-1.37-1.37c-.4-.4-.92-.59-1.43-.59-.52 0-1.04.2-1.43.59L10.3 9.45l-7.72 7.72c-.78.78-.78 2.05 0 2.83L4 21.41c.39.39.9.59 1.41.59.51 0 1.02-.2 1.41-.59l7.78-7.78 2.81-2.81c.8-.78.8-2.07 0-2.86zM5.41 20L4 18.59l7.72-7.72 1.47 1.35L5.41 20z\"/>\n",
              "  </svg>\n",
              "      </button>\n",
              "      \n",
              "  <style>\n",
              "    .colab-df-container {\n",
              "      display:flex;\n",
              "      flex-wrap:wrap;\n",
              "      gap: 12px;\n",
              "    }\n",
              "\n",
              "    .colab-df-convert {\n",
              "      background-color: #E8F0FE;\n",
              "      border: none;\n",
              "      border-radius: 50%;\n",
              "      cursor: pointer;\n",
              "      display: none;\n",
              "      fill: #1967D2;\n",
              "      height: 32px;\n",
              "      padding: 0 0 0 0;\n",
              "      width: 32px;\n",
              "    }\n",
              "\n",
              "    .colab-df-convert:hover {\n",
              "      background-color: #E2EBFA;\n",
              "      box-shadow: 0px 1px 2px rgba(60, 64, 67, 0.3), 0px 1px 3px 1px rgba(60, 64, 67, 0.15);\n",
              "      fill: #174EA6;\n",
              "    }\n",
              "\n",
              "    [theme=dark] .colab-df-convert {\n",
              "      background-color: #3B4455;\n",
              "      fill: #D2E3FC;\n",
              "    }\n",
              "\n",
              "    [theme=dark] .colab-df-convert:hover {\n",
              "      background-color: #434B5C;\n",
              "      box-shadow: 0px 1px 3px 1px rgba(0, 0, 0, 0.15);\n",
              "      filter: drop-shadow(0px 1px 2px rgba(0, 0, 0, 0.3));\n",
              "      fill: #FFFFFF;\n",
              "    }\n",
              "  </style>\n",
              "\n",
              "      <script>\n",
              "        const buttonEl =\n",
              "          document.querySelector('#df-959cc6a7-ae2f-4f4f-b6f2-89ff2fb62c5b button.colab-df-convert');\n",
              "        buttonEl.style.display =\n",
              "          google.colab.kernel.accessAllowed ? 'block' : 'none';\n",
              "\n",
              "        async function convertToInteractive(key) {\n",
              "          const element = document.querySelector('#df-959cc6a7-ae2f-4f4f-b6f2-89ff2fb62c5b');\n",
              "          const dataTable =\n",
              "            await google.colab.kernel.invokeFunction('convertToInteractive',\n",
              "                                                     [key], {});\n",
              "          if (!dataTable) return;\n",
              "\n",
              "          const docLinkHtml = 'Like what you see? Visit the ' +\n",
              "            '<a target=\"_blank\" href=https://colab.research.google.com/notebooks/data_table.ipynb>data table notebook</a>'\n",
              "            + ' to learn more about interactive tables.';\n",
              "          element.innerHTML = '';\n",
              "          dataTable['output_type'] = 'display_data';\n",
              "          await google.colab.output.renderOutput(dataTable, element);\n",
              "          const docLink = document.createElement('div');\n",
              "          docLink.innerHTML = docLinkHtml;\n",
              "          element.appendChild(docLink);\n",
              "        }\n",
              "      </script>\n",
              "    </div>\n",
              "  </div>\n",
              "  "
            ]
          },
          "metadata": {},
          "execution_count": 2
        }
      ]
    },
    {
      "cell_type": "code",
      "source": [
        "# Start and Finish time\n",
        "traffic_df['IntervalStart'].agg([min, max])"
      ],
      "metadata": {
        "colab": {
          "base_uri": "https://localhost:8080/"
        },
        "id": "pA-IxgWYKQ6L",
        "outputId": "8a537ab8-fe37-448b-cc9a-eae06fcb1d6b"
      },
      "execution_count": null,
      "outputs": [
        {
          "output_type": "execute_result",
          "data": {
            "text/plain": [
              "min   2021-09-03 10:05:00\n",
              "max   2022-07-28 21:01:00\n",
              "Name: IntervalStart, dtype: datetime64[ns]"
            ]
          },
          "metadata": {},
          "execution_count": 3
        }
      ]
    },
    {
      "cell_type": "code",
      "source": [
        "# Initial anaylsys\n",
        "print(traffic_df.info())\n",
        "\n",
        "# dataframe dimension\n",
        "print(traffic_df.shape)"
      ],
      "metadata": {
        "id": "fGetAywpJPH-",
        "colab": {
          "base_uri": "https://localhost:8080/"
        },
        "outputId": "2de6a16b-8a13-4853-d8d8-8d7ee346304e"
      },
      "execution_count": null,
      "outputs": [
        {
          "output_type": "stream",
          "name": "stdout",
          "text": [
            "<class 'pandas.core.frame.DataFrame'>\n",
            "Int64Index: 1000000 entries, 0 to 999999\n",
            "Data columns (total 19 columns):\n",
            " #   Column            Non-Null Count    Dtype         \n",
            "---  ------            --------------    -----         \n",
            " 0   Closed            1000000 non-null  bool          \n",
            " 1   Congestion        1000000 non-null  int64         \n",
            " 2   Delay             1000000 non-null  int64         \n",
            " 3   DestSiteId        1000000 non-null  int64         \n",
            " 4   Direction         992584 non-null   object        \n",
            " 5   EnoughData        1000000 non-null  bool          \n",
            " 6   ExcessDelay       1000000 non-null  int64         \n",
            " 7   Id                1000000 non-null  int64         \n",
            " 8   IntervalStart     1000000 non-null  datetime64[ns]\n",
            " 9   IsFreeway         1000000 non-null  bool          \n",
            " 10  Length            1000000 non-null  int64         \n",
            " 11  MinNumberOfLanes  1000000 non-null  int64         \n",
            " 12  MinTT             1000000 non-null  int64         \n",
            " 13  Name              1000000 non-null  object        \n",
            " 14  OriginSiteId      1000000 non-null  int64         \n",
            " 15  Score             1000000 non-null  int64         \n",
            " 16  Speed             1000000 non-null  int64         \n",
            " 17  TT                1000000 non-null  int64         \n",
            " 18  Trend             1000000 non-null  object        \n",
            "dtypes: bool(3), datetime64[ns](1), int64(12), object(3)\n",
            "memory usage: 132.6+ MB\n",
            "None\n",
            "(1000000, 19)\n"
          ]
        }
      ]
    },
    {
      "cell_type": "markdown",
      "source": [
        "Therefore, the resulting dataset contains 19 variables and 1 million observations that are recorded during 390 days between 03-07-2021 to 28-07-2022. Variables in the dataset exist in varying data types. Of the 19 variables, most are numerical variables, followed by categorical, boolean and date/time data types. Some of the variables in the dataset are modified forms of other variables. For example, a variable ‘Congestion’ in the dataset represents a variable ‘ExcessDelay’ converted into a standard deviation. In our study, we explore whether such variables that directly relate to each other are beneficial to our modelling task by analysing the significance of individual variables.\n",
        "\n",
        "Our model will predict a variable ‘Delay’ against other variables in the dataset. The Delay variable represents the traffic delay at the time of observation recorded in seconds. Utilising the 10 times rule, the chosen dataset has 19 parameters that are recorded one million times which yields a parameter-to-record ratio of 1:52632. Therefore, we expect that the dataset will provide sufficient information to a machine learning model during its training process [2]."
      ],
      "metadata": {
        "id": "hrN3a_ftoKOV"
      }
    },
    {
      "cell_type": "markdown",
      "metadata": {
        "id": "73g0VTLITznA"
      },
      "source": [
        "## Analyse Data: Use descriptive statistics and visualization to better understand the dataset."
      ]
    },
    {
      "cell_type": "markdown",
      "source": [
        "<p>In our study, we aim to identify appropriate machine learning models for the chosen dataset. In doing so, we explore the chosen dataset by applying a series of descriptive statistical analysis and data transformations techniques to convert the dataset into a more suitable format for modelling.</p>"
      ],
      "metadata": {
        "id": "vvsQHtCGYVKv"
      }
    },
    {
      "cell_type": "code",
      "execution_count": null,
      "metadata": {
        "id": "1jdpMcsIZCVv",
        "colab": {
          "base_uri": "https://localhost:8080/",
          "height": 364
        },
        "outputId": "cb291234-51b5-4c3c-bf55-1c88a313f62a"
      },
      "outputs": [
        {
          "output_type": "execute_result",
          "data": {
            "text/plain": [
              "           Congestion           Delay      DestSiteId     ExcessDelay  \\\n",
              "count  1000000.000000  1000000.000000  1000000.000000  1000000.000000   \n",
              "mean         0.188980       12.472306     4172.701722       -5.606939   \n",
              "std          1.020751       23.269376     4864.222067       20.901625   \n",
              "min          0.000000     -338.000000        1.000000     -382.000000   \n",
              "25%          0.000000        2.000000       72.000000      -13.000000   \n",
              "50%          0.000000        8.000000      235.000000       -5.000000   \n",
              "75%          0.000000       18.000000    10021.000000        2.000000   \n",
              "max         94.000000      919.000000    10087.000000      907.000000   \n",
              "\n",
              "                   Id          Length  MinNumberOfLanes           MinTT  \\\n",
              "count  1000000.000000  1000000.000000    1000000.000000  1000000.000000   \n",
              "mean       393.681503     1698.365308          1.119943       90.716085   \n",
              "std        204.473039     1206.726133          0.337957       60.485245   \n",
              "min          0.000000       75.000000          1.000000        2.000000   \n",
              "25%        235.000000      854.000000          1.000000       47.000000   \n",
              "50%        423.000000     1387.000000          1.000000       76.000000   \n",
              "75%        568.000000     2172.000000          1.000000      115.000000   \n",
              "max        706.000000     7671.000000          3.000000      370.000000   \n",
              "\n",
              "         OriginSiteId           Score           Speed              TT  \n",
              "count  1000000.000000  1000000.000000  1000000.000000  1000000.000000  \n",
              "mean      4177.689648        0.009120       61.693615      103.188391  \n",
              "std       4860.468610        0.173052       24.607083       67.737773  \n",
              "min          1.000000        0.000000        2.000000        1.000000  \n",
              "25%         74.000000        0.000000       47.000000       56.000000  \n",
              "50%        236.000000        0.000000       61.000000       88.000000  \n",
              "75%      10021.000000        0.000000       74.000000      132.000000  \n",
              "max      10087.000000        7.000000      300.000000     1033.000000  "
            ],
            "text/html": [
              "\n",
              "  <div id=\"df-2997d945-806f-4e7f-bd54-5fe160dec750\">\n",
              "    <div class=\"colab-df-container\">\n",
              "      <div>\n",
              "<style scoped>\n",
              "    .dataframe tbody tr th:only-of-type {\n",
              "        vertical-align: middle;\n",
              "    }\n",
              "\n",
              "    .dataframe tbody tr th {\n",
              "        vertical-align: top;\n",
              "    }\n",
              "\n",
              "    .dataframe thead th {\n",
              "        text-align: right;\n",
              "    }\n",
              "</style>\n",
              "<table border=\"1\" class=\"dataframe\">\n",
              "  <thead>\n",
              "    <tr style=\"text-align: right;\">\n",
              "      <th></th>\n",
              "      <th>Congestion</th>\n",
              "      <th>Delay</th>\n",
              "      <th>DestSiteId</th>\n",
              "      <th>ExcessDelay</th>\n",
              "      <th>Id</th>\n",
              "      <th>Length</th>\n",
              "      <th>MinNumberOfLanes</th>\n",
              "      <th>MinTT</th>\n",
              "      <th>OriginSiteId</th>\n",
              "      <th>Score</th>\n",
              "      <th>Speed</th>\n",
              "      <th>TT</th>\n",
              "    </tr>\n",
              "  </thead>\n",
              "  <tbody>\n",
              "    <tr>\n",
              "      <th>count</th>\n",
              "      <td>1000000.000000</td>\n",
              "      <td>1000000.000000</td>\n",
              "      <td>1000000.000000</td>\n",
              "      <td>1000000.000000</td>\n",
              "      <td>1000000.000000</td>\n",
              "      <td>1000000.000000</td>\n",
              "      <td>1000000.000000</td>\n",
              "      <td>1000000.000000</td>\n",
              "      <td>1000000.000000</td>\n",
              "      <td>1000000.000000</td>\n",
              "      <td>1000000.000000</td>\n",
              "      <td>1000000.000000</td>\n",
              "    </tr>\n",
              "    <tr>\n",
              "      <th>mean</th>\n",
              "      <td>0.188980</td>\n",
              "      <td>12.472306</td>\n",
              "      <td>4172.701722</td>\n",
              "      <td>-5.606939</td>\n",
              "      <td>393.681503</td>\n",
              "      <td>1698.365308</td>\n",
              "      <td>1.119943</td>\n",
              "      <td>90.716085</td>\n",
              "      <td>4177.689648</td>\n",
              "      <td>0.009120</td>\n",
              "      <td>61.693615</td>\n",
              "      <td>103.188391</td>\n",
              "    </tr>\n",
              "    <tr>\n",
              "      <th>std</th>\n",
              "      <td>1.020751</td>\n",
              "      <td>23.269376</td>\n",
              "      <td>4864.222067</td>\n",
              "      <td>20.901625</td>\n",
              "      <td>204.473039</td>\n",
              "      <td>1206.726133</td>\n",
              "      <td>0.337957</td>\n",
              "      <td>60.485245</td>\n",
              "      <td>4860.468610</td>\n",
              "      <td>0.173052</td>\n",
              "      <td>24.607083</td>\n",
              "      <td>67.737773</td>\n",
              "    </tr>\n",
              "    <tr>\n",
              "      <th>min</th>\n",
              "      <td>0.000000</td>\n",
              "      <td>-338.000000</td>\n",
              "      <td>1.000000</td>\n",
              "      <td>-382.000000</td>\n",
              "      <td>0.000000</td>\n",
              "      <td>75.000000</td>\n",
              "      <td>1.000000</td>\n",
              "      <td>2.000000</td>\n",
              "      <td>1.000000</td>\n",
              "      <td>0.000000</td>\n",
              "      <td>2.000000</td>\n",
              "      <td>1.000000</td>\n",
              "    </tr>\n",
              "    <tr>\n",
              "      <th>25%</th>\n",
              "      <td>0.000000</td>\n",
              "      <td>2.000000</td>\n",
              "      <td>72.000000</td>\n",
              "      <td>-13.000000</td>\n",
              "      <td>235.000000</td>\n",
              "      <td>854.000000</td>\n",
              "      <td>1.000000</td>\n",
              "      <td>47.000000</td>\n",
              "      <td>74.000000</td>\n",
              "      <td>0.000000</td>\n",
              "      <td>47.000000</td>\n",
              "      <td>56.000000</td>\n",
              "    </tr>\n",
              "    <tr>\n",
              "      <th>50%</th>\n",
              "      <td>0.000000</td>\n",
              "      <td>8.000000</td>\n",
              "      <td>235.000000</td>\n",
              "      <td>-5.000000</td>\n",
              "      <td>423.000000</td>\n",
              "      <td>1387.000000</td>\n",
              "      <td>1.000000</td>\n",
              "      <td>76.000000</td>\n",
              "      <td>236.000000</td>\n",
              "      <td>0.000000</td>\n",
              "      <td>61.000000</td>\n",
              "      <td>88.000000</td>\n",
              "    </tr>\n",
              "    <tr>\n",
              "      <th>75%</th>\n",
              "      <td>0.000000</td>\n",
              "      <td>18.000000</td>\n",
              "      <td>10021.000000</td>\n",
              "      <td>2.000000</td>\n",
              "      <td>568.000000</td>\n",
              "      <td>2172.000000</td>\n",
              "      <td>1.000000</td>\n",
              "      <td>115.000000</td>\n",
              "      <td>10021.000000</td>\n",
              "      <td>0.000000</td>\n",
              "      <td>74.000000</td>\n",
              "      <td>132.000000</td>\n",
              "    </tr>\n",
              "    <tr>\n",
              "      <th>max</th>\n",
              "      <td>94.000000</td>\n",
              "      <td>919.000000</td>\n",
              "      <td>10087.000000</td>\n",
              "      <td>907.000000</td>\n",
              "      <td>706.000000</td>\n",
              "      <td>7671.000000</td>\n",
              "      <td>3.000000</td>\n",
              "      <td>370.000000</td>\n",
              "      <td>10087.000000</td>\n",
              "      <td>7.000000</td>\n",
              "      <td>300.000000</td>\n",
              "      <td>1033.000000</td>\n",
              "    </tr>\n",
              "  </tbody>\n",
              "</table>\n",
              "</div>\n",
              "      <button class=\"colab-df-convert\" onclick=\"convertToInteractive('df-2997d945-806f-4e7f-bd54-5fe160dec750')\"\n",
              "              title=\"Convert this dataframe to an interactive table.\"\n",
              "              style=\"display:none;\">\n",
              "        \n",
              "  <svg xmlns=\"http://www.w3.org/2000/svg\" height=\"24px\"viewBox=\"0 0 24 24\"\n",
              "       width=\"24px\">\n",
              "    <path d=\"M0 0h24v24H0V0z\" fill=\"none\"/>\n",
              "    <path d=\"M18.56 5.44l.94 2.06.94-2.06 2.06-.94-2.06-.94-.94-2.06-.94 2.06-2.06.94zm-11 1L8.5 8.5l.94-2.06 2.06-.94-2.06-.94L8.5 2.5l-.94 2.06-2.06.94zm10 10l.94 2.06.94-2.06 2.06-.94-2.06-.94-.94-2.06-.94 2.06-2.06.94z\"/><path d=\"M17.41 7.96l-1.37-1.37c-.4-.4-.92-.59-1.43-.59-.52 0-1.04.2-1.43.59L10.3 9.45l-7.72 7.72c-.78.78-.78 2.05 0 2.83L4 21.41c.39.39.9.59 1.41.59.51 0 1.02-.2 1.41-.59l7.78-7.78 2.81-2.81c.8-.78.8-2.07 0-2.86zM5.41 20L4 18.59l7.72-7.72 1.47 1.35L5.41 20z\"/>\n",
              "  </svg>\n",
              "      </button>\n",
              "      \n",
              "  <style>\n",
              "    .colab-df-container {\n",
              "      display:flex;\n",
              "      flex-wrap:wrap;\n",
              "      gap: 12px;\n",
              "    }\n",
              "\n",
              "    .colab-df-convert {\n",
              "      background-color: #E8F0FE;\n",
              "      border: none;\n",
              "      border-radius: 50%;\n",
              "      cursor: pointer;\n",
              "      display: none;\n",
              "      fill: #1967D2;\n",
              "      height: 32px;\n",
              "      padding: 0 0 0 0;\n",
              "      width: 32px;\n",
              "    }\n",
              "\n",
              "    .colab-df-convert:hover {\n",
              "      background-color: #E2EBFA;\n",
              "      box-shadow: 0px 1px 2px rgba(60, 64, 67, 0.3), 0px 1px 3px 1px rgba(60, 64, 67, 0.15);\n",
              "      fill: #174EA6;\n",
              "    }\n",
              "\n",
              "    [theme=dark] .colab-df-convert {\n",
              "      background-color: #3B4455;\n",
              "      fill: #D2E3FC;\n",
              "    }\n",
              "\n",
              "    [theme=dark] .colab-df-convert:hover {\n",
              "      background-color: #434B5C;\n",
              "      box-shadow: 0px 1px 3px 1px rgba(0, 0, 0, 0.15);\n",
              "      filter: drop-shadow(0px 1px 2px rgba(0, 0, 0, 0.3));\n",
              "      fill: #FFFFFF;\n",
              "    }\n",
              "  </style>\n",
              "\n",
              "      <script>\n",
              "        const buttonEl =\n",
              "          document.querySelector('#df-2997d945-806f-4e7f-bd54-5fe160dec750 button.colab-df-convert');\n",
              "        buttonEl.style.display =\n",
              "          google.colab.kernel.accessAllowed ? 'block' : 'none';\n",
              "\n",
              "        async function convertToInteractive(key) {\n",
              "          const element = document.querySelector('#df-2997d945-806f-4e7f-bd54-5fe160dec750');\n",
              "          const dataTable =\n",
              "            await google.colab.kernel.invokeFunction('convertToInteractive',\n",
              "                                                     [key], {});\n",
              "          if (!dataTable) return;\n",
              "\n",
              "          const docLinkHtml = 'Like what you see? Visit the ' +\n",
              "            '<a target=\"_blank\" href=https://colab.research.google.com/notebooks/data_table.ipynb>data table notebook</a>'\n",
              "            + ' to learn more about interactive tables.';\n",
              "          element.innerHTML = '';\n",
              "          dataTable['output_type'] = 'display_data';\n",
              "          await google.colab.output.renderOutput(dataTable, element);\n",
              "          const docLink = document.createElement('div');\n",
              "          docLink.innerHTML = docLinkHtml;\n",
              "          element.appendChild(docLink);\n",
              "        }\n",
              "      </script>\n",
              "    </div>\n",
              "  </div>\n",
              "  "
            ]
          },
          "metadata": {},
          "execution_count": 5
        }
      ],
      "source": [
        "# Summary target variable\n",
        "traffic_df.describe()"
      ]
    },
    {
      "cell_type": "markdown",
      "source": [
        "<p>Plotting a histogram of the ‘Delay’ variable reveals a slightly normal distribution that is skewed to the right. Plotting a box plot reveals numerous outliers. </p>"
      ],
      "metadata": {
        "id": "6zGArcftYZgZ"
      }
    },
    {
      "cell_type": "code",
      "source": [
        "# Histrogram distribtion of the target variable\n",
        "n, bins, patches = plt.hist(x=traffic_df['Delay'], bins=500, color='#0504aa', alpha=0.7, rwidth=0.85)\n",
        "plt.grid(axis='y', alpha=0.75)\n",
        "plt.xlabel('Delay value')\n",
        "plt.ylabel('Frequency')\n",
        "plt.title('Histrogram distribtion of Delay variable')\n",
        "maxfreq = n.max()\n",
        "# Set a clean upper y-axis limit.\n",
        "plt.ylim(ymax=np.ceil(maxfreq / 10) * 10 if maxfreq % 10 else maxfreq + 10)\n",
        "plt.show()"
      ],
      "metadata": {
        "id": "g0kJYubFzVSe",
        "colab": {
          "base_uri": "https://localhost:8080/",
          "height": 295
        },
        "outputId": "2b9229a5-5105-49e6-81e1-9b245250fc09"
      },
      "execution_count": null,
      "outputs": [
        {
          "output_type": "display_data",
          "data": {
            "text/plain": [
              "<Figure size 432x288 with 1 Axes>"
            ],
            "image/png": "[encoded data removed]"
          },
          "metadata": {
            "needs_background": "light"
          }
        }
      ]
    },
    {
      "cell_type": "code",
      "source": [
        "# Creating plot\n",
        "plt.boxplot(traffic_df['Delay'])\n",
        "plt.ylabel('Delay')\n",
        "plt.title('Boxplot distribtion of the Delay variable')\n",
        "\n",
        "# show plot\n",
        "plt.show()"
      ],
      "metadata": {
        "id": "NNCMi_iw4qQU",
        "colab": {
          "base_uri": "https://localhost:8080/",
          "height": 281
        },
        "outputId": "82001566-92a1-4f6b-91d5-129a986301c1"
      },
      "execution_count": null,
      "outputs": [
        {
          "output_type": "display_data",
          "data": {
            "text/plain": [
              "<Figure size 432x288 with 1 Axes>"
            ],
            "image/png": "[encoded data removed]"
          },
          "metadata": {
            "needs_background": "light"
          }
        }
      ]
    },
    {
      "cell_type": "markdown",
      "source": [
        "<p>Our correlation matrix indicates that the significant variables are 'ExcessDelay', 'Score', 'Speed', and 'TT'. </p>"
      ],
      "metadata": {
        "id": "_1o7YfcVYdMu"
      }
    },
    {
      "cell_type": "code",
      "execution_count": null,
      "metadata": {
        "id": "bn91bqP0ZO1b",
        "colab": {
          "base_uri": "https://localhost:8080/",
          "height": 513
        },
        "outputId": "f8e4aa64-a2bb-4db3-aeaa-5dc94bf890ba"
      },
      "outputs": [
        {
          "output_type": "display_data",
          "data": {
            "text/plain": [
              "<Figure size 648x504 with 2 Axes>"
            ],
            "image/png": "[encoded data removed]"
          },
          "metadata": {
            "needs_background": "light"
          }
        }
      ],
      "source": [
        "# Correaltion matrix\n",
        "corr = traffic_df.select_dtypes(['number']).corr()\n",
        "plt.figure(figsize=(9,7))\n",
        "cor_map = sns.heatmap(corr,\n",
        "                      cmap=\"Blues\",\n",
        "                      annot=True,\n",
        "                      square=True,\n",
        "                      linewidth=1,\n",
        "                      cbar_kws={'fraction' : 0.01})\n",
        "cor_map.set_xticklabels(cor_map.get_xticklabels(), rotation=45, horizontalalignment='right')\n",
        "plt.title('Correlation matrix', fontsize=16)\n",
        "plt.show()"
      ]
    },
    {
      "cell_type": "markdown",
      "source": [
        "<p>Using both an ADF and KPSS test suggests that the delay variable is stationary. This means that over time, the delay of traffic remains the same. As a result of this, regression based models are unlikely to be effective. We can see this visualised in the graphs below.</p>"
      ],
      "metadata": {
        "id": "5BHAoXs0YnUU"
      }
    },
    {
      "cell_type": "code",
      "source": [
        "# data seasonality analysis\n",
        "from statsmodels.tsa.seasonal import seasonal_decompose\n",
        "import statsmodels.api as sm\n",
        "\n",
        "# Setting the date as index (time series)\n",
        "traffic_ts = traffic_df.set_index('IntervalStart')\n",
        "traffic_ts = traffic_ts['Delay']\n",
        "\n",
        "# resample delay variable to have an interval of 1 hour\n",
        "season = traffic_ts.resample('60min').mean()\n",
        "\n",
        "# select recent values\n",
        "season = season.loc[(season.index > season.index.max() - pd.DateOffset(days=6)) & (season.index <= season.index.max())]\n",
        "\n",
        "plt.rcParams[\"figure.figsize\"] = [10, 6]\n",
        "plt.rcParams[\"figure.autolayout\"] = True\n",
        "decomposition = sm.tsa.seasonal_decompose(season, model='additive')\n",
        "fig = decomposition.plot()\n",
        "plt.show()"
      ],
      "metadata": {
        "id": "w5RTNHyenin5",
        "colab": {
          "base_uri": "https://localhost:8080/",
          "height": 441
        },
        "outputId": "bd010a23-e9df-4d1e-8af8-c2df0ebb66c8"
      },
      "execution_count": null,
      "outputs": [
        {
          "output_type": "display_data",
          "data": {
            "text/plain": [
              "<Figure size 720x432 with 4 Axes>"
            ],
            "image/png": "[encoded data removed]"
          },
          "metadata": {
            "needs_background": "light"
          }
        }
      ]
    },
    {
      "cell_type": "code",
      "source": [
        "from statsmodels.tsa.stattools import adfuller, kpss\n",
        "# ADF Test\n",
        "result = adfuller(season.values, autolag='AIC')\n",
        "print('ADF Statistic: %f' % result[0])\n",
        "print('p-value: %f' % result[1])\n",
        "print('Critical Values:')\n",
        "for key, value in result[4].items():\n",
        "  print('\\t%s: %.3f' % (key, value))\n",
        "if result[0] > result[4][\"5%\"]:\n",
        "  print (\"Reject Ho - Time Series is Stationary (does not have a unit root)\")\n",
        "else:\n",
        "  print(\"Failed to Reject Ho - Time Series is Non-atationary (has a unit root)\")\n",
        "# KPSS Test\n",
        "statistic, p_value, n_lags, critical_values = kpss(season.values, regression='c')\n",
        "# Format Output\n",
        "print(f'\\nKPSS Statistic: {statistic}')\n",
        "print(f'p-value: {p_value}')\n",
        "print(f'num lags: {n_lags}')\n",
        "print('Critial Values:')\n",
        "for key, value in critical_values.items():\n",
        "  print(f'   {key}: {value}')\n",
        "print(f'Result: The series is {\"not \" if p_value < 0.05 else \"\"}stationary')"
      ],
      "metadata": {
        "id": "baJrEb3cst3I",
        "colab": {
          "base_uri": "https://localhost:8080/"
        },
        "outputId": "d8647b39-d57b-42b9-ad96-6b2c7ec4d183"
      },
      "execution_count": null,
      "outputs": [
        {
          "output_type": "stream",
          "name": "stdout",
          "text": [
            "ADF Statistic: -7.696948\n",
            "p-value: 0.000000\n",
            "Critical Values:\n",
            "\t1%: -3.480\n",
            "\t5%: -2.883\n",
            "\t10%: -2.578\n",
            "Failed to Reject Ho - Time Series is Stationary\n",
            "\n",
            "KPSS Statistic: 0.3493610904352092\n",
            "p-value: 0.09898228860551328\n",
            "num lags: 14\n",
            "Critial Values:\n",
            "   10%: 0.347\n",
            "   5%: 0.463\n",
            "   2.5%: 0.574\n",
            "   1%: 0.739\n",
            "Result: The series is stationary\n"
          ]
        },
        {
          "output_type": "stream",
          "name": "stderr",
          "text": [
            "/usr/local/lib/python3.7/dist-packages/statsmodels/tsa/stattools.py:1875: FutureWarning: The behavior of using nlags=None will change in release 0.13.Currently nlags=None is the same as nlags=\"legacy\", and so a sample-size lag length is used. After the next release, the default will change to be the same as nlags=\"auto\" which uses an automatic lag length selection method. To silence this warning, either use \"auto\" or \"legacy\"\n",
            "  warnings.warn(msg, FutureWarning)\n"
          ]
        }
      ]
    },
    {
      "cell_type": "markdown",
      "source": [
        "<p>When analysing the data, we found that 7.65% were outliers. When grouped by location, this number drops to 1.02%.</p>"
      ],
      "metadata": {
        "id": "dtIAV387Ytkw"
      }
    },
    {
      "cell_type": "code",
      "source": [
        "# Percentage of outlier in delay variable\n",
        "Q1 = traffic_df['Delay'].quantile(0.25)\n",
        "Q3 = traffic_df['Delay'].quantile(0.75)\n",
        "IQR = Q3 - Q1\n",
        "\n",
        "perc_outlier = round(((traffic_df['Delay'] < (Q1 - 1.5 * IQR)) | (traffic_df['Delay'] > (Q3 + 1.5 * IQR))).sum() / len(traffic_df) * 100, 2)\n",
        "\n",
        "# percentage of oultier grouped into each group\n",
        "outlier_group = traffic_df[['Delay', 'Name']].groupby(\"Name\").transform(lambda x: (x - x.mean()).abs() > 3*x.std())\n",
        "perc_outlier_group = round(outlier_group['Delay'].values.sum() / len(traffic_df) * 100, 2)\n",
        "\n",
        "\n",
        "print(\"Percentage of outliers in 'Delay' variable: \", perc_outlier, \"%\")\n",
        "print(\"Percentage of outliers in 'Delay' variable grouped by each location: \", perc_outlier_group, \"%\")"
      ],
      "metadata": {
        "id": "Wo7ct5_W8cBm",
        "colab": {
          "base_uri": "https://localhost:8080/"
        },
        "outputId": "67320469-d89f-44ca-9c5d-f7f2337d6111"
      },
      "execution_count": null,
      "outputs": [
        {
          "output_type": "stream",
          "name": "stdout",
          "text": [
            "Percentage of outliers in 'Delay' variable:  7.65 %\n",
            "Percentage of outliers in 'Delay' variable grouped by each location:  1.02 %\n"
          ]
        }
      ]
    },
    {
      "cell_type": "markdown",
      "source": [
        "<p>After conducting a p-value test, we have found one of the variables to be insignificant (Score) in a linear regression.</p>"
      ],
      "metadata": {
        "id": "zXQUasMoYxEk"
      }
    },
    {
      "cell_type": "code",
      "source": [
        "# define predictor and response variables\n",
        "y = traffic_df['Delay']\n",
        "x = traffic_df.select_dtypes(['number']).drop(['Delay'], axis=1)\n",
        "\n",
        "# add constant to predictor variables\n",
        "x = sm.add_constant(x)\n",
        "\n",
        "# Train a regression model\n",
        "model = sm.OLS(y, x).fit()\n",
        "\n",
        "#view model summary\n",
        "print(model.summary())"
      ],
      "metadata": {
        "id": "tFalg9dqKxyD",
        "colab": {
          "base_uri": "https://localhost:8080/"
        },
        "outputId": "ac28f2aa-2686-4bc6-9146-a14a61ddca24"
      },
      "execution_count": null,
      "outputs": [
        {
          "output_type": "stream",
          "name": "stderr",
          "text": [
            "/usr/local/lib/python3.7/dist-packages/statsmodels/tsa/tsatools.py:142: FutureWarning: In a future version of pandas all arguments of concat except for the argument 'objs' will be keyword-only\n",
            "  x = pd.concat(x[::order], 1)\n"
          ]
        },
        {
          "output_type": "stream",
          "name": "stdout",
          "text": [
            "                            OLS Regression Results                            \n",
            "==============================================================================\n",
            "Dep. Variable:                  Delay   R-squared:                       1.000\n",
            "Model:                            OLS   Adj. R-squared:                  1.000\n",
            "Method:                 Least Squares   F-statistic:                 5.746e+32\n",
            "Date:                Fri, 07 Oct 2022   Prob (F-statistic):               0.00\n",
            "Time:                        04:40:46   Log-Likelihood:             2.7441e+07\n",
            "No. Observations:             1000000   AIC:                        -5.488e+07\n",
            "Df Residuals:                  999988   BIC:                        -5.488e+07\n",
            "Df Model:                          11                                         \n",
            "Covariance Type:            nonrobust                                         \n",
            "====================================================================================\n",
            "                       coef    std err          t      P>|t|      [0.025      0.975]\n",
            "------------------------------------------------------------------------------------\n",
            "const             3.178e-13   1.73e-15    183.206      0.000    3.14e-13    3.21e-13\n",
            "Congestion        2.949e-17   5.88e-16      0.050      0.960   -1.12e-15    1.18e-15\n",
            "DestSiteId        3.932e-17   7.96e-20    493.621      0.000    3.92e-17    3.95e-17\n",
            "ExcessDelay       3.401e-15   2.21e-17    153.997      0.000    3.36e-15    3.44e-15\n",
            "Id               -2.516e-16   2.34e-18   -107.519      0.000   -2.56e-16   -2.47e-16\n",
            "Length            2.268e-17   6.96e-19     32.589      0.000    2.13e-17     2.4e-17\n",
            "MinNumberOfLanes -2.316e-14   8.92e-16    -25.960      0.000   -2.49e-14   -2.14e-14\n",
            "MinTT               -1.0000   2.22e-17   -4.5e+16      0.000      -1.000      -1.000\n",
            "OriginSiteId     -2.665e-17   8.09e-20   -329.349      0.000   -2.68e-17   -2.65e-17\n",
            "Score             1.249e-16   2.99e-15      0.042      0.967   -5.74e-15    5.99e-15\n",
            "Speed             3.748e-16   1.73e-17     21.625      0.000    3.41e-16    4.09e-16\n",
            "TT                   1.0000   1.86e-17   5.38e+16      0.000       1.000       1.000\n",
            "==============================================================================\n",
            "Omnibus:                    50179.097   Durbin-Watson:                   1.395\n",
            "Prob(Omnibus):                  0.000   Jarque-Bera (JB):           178845.525\n",
            "Skew:                           0.124   Prob(JB):                         0.00\n",
            "Kurtosis:                       5.057   Cond. No.                     8.31e+04\n",
            "==============================================================================\n",
            "\n",
            "Notes:\n",
            "[1] Standard Errors assume that the covariance matrix of the errors is correctly specified.\n",
            "[2] The condition number is large, 8.31e+04. This might indicate that there are\n",
            "strong multicollinearity or other numerical problems.\n"
          ]
        }
      ]
    },
    {
      "cell_type": "markdown",
      "metadata": {
        "id": "5SO77IFZT1JG"
      },
      "source": [
        "## Prepare Data: Use data transforms/scaling/re-shaping and feature selection in order to reduce dimensionality and better expose the structure of the prediction problem to the modeling algorithms. Summarise your data."
      ]
    },
    {
      "cell_type": "markdown",
      "source": [
        "<p>Based on the correlation matrix, we have decided to remove the following columns: ‘MinTT’, 'TT', 'Id', 'DestSiteId', 'OriginSiteId' and 'Score'.</p>"
      ],
      "metadata": {
        "id": "pgj6HcQKY0GZ"
      }
    },
    {
      "cell_type": "code",
      "source": [
        "# Remvoe outlier by grouping by each location\n",
        "traffic_df = traffic_df[outlier_group.Delay == False]"
      ],
      "metadata": {
        "id": "ju6dGMHhRb8F"
      },
      "execution_count": null,
      "outputs": []
    },
    {
      "cell_type": "markdown",
      "source": [
        "<p>Outliers were removed by grouping delay by location. These outliers could be due to outside factors such as construction, or a car accident, neither of which would be representative of delay in terms of creating a predictive model.</p>"
      ],
      "metadata": {
        "id": "27ZG3YT6Y9rH"
      }
    },
    {
      "cell_type": "code",
      "source": [
        "# In this code, we are dropping the varialbes which are causing colinearity or not needed\n",
        "traffic_df = traffic_df.drop(['MinTT', 'TT', 'Id', 'DestSiteId', 'OriginSiteId', 'Score'], axis=1)"
      ],
      "metadata": {
        "id": "nbjzNfzHCJYj"
      },
      "execution_count": null,
      "outputs": []
    },
    {
      "cell_type": "markdown",
      "source": [
        "<p>Next, we transform the 'Trend' variable into a slope of the regression line.</p>"
      ],
      "metadata": {
        "id": "s0D1LHnRZYT3"
      }
    },
    {
      "cell_type": "code",
      "source": [
        "# Trend varialbe before feature transformation\n",
        "traffic_df['Trend'].head(3)"
      ],
      "metadata": {
        "id": "dfcJUDOHP2BP",
        "colab": {
          "base_uri": "https://localhost:8080/"
        },
        "outputId": "d2dd2a41-aebf-40c6-9d92-1724b82abceb"
      },
      "execution_count": null,
      "outputs": [
        {
          "output_type": "execute_result",
          "data": {
            "text/plain": [
              "0    [85, 84, 83, 82, 81, 80, 79, 78, 77, 76, 75, 74]\n",
              "1    [77, 72, 70, 69, 61, 54, 51, 49, 48, 49, 56, 69]\n",
              "2    [18, 18, 17, 16, 15, 14, 18, 19, 15, 17, 17, 17]\n",
              "Name: Trend, dtype: object"
            ]
          },
          "metadata": {},
          "execution_count": 15
        }
      ]
    },
    {
      "cell_type": "code",
      "source": [
        "# Transform Trend vriable into a slope of regression line\n",
        "from scipy.stats import linregress\n",
        "from numpy import arange\n",
        "\n",
        "traffic_df['Trend'] = traffic_df['Trend'].apply(lambda x: None if (not x) else linregress(np.arange(0, len(x)).tolist(), x).slope)\n",
        "\n",
        "traffic_df['Trend'].head(3)"
      ],
      "metadata": {
        "id": "UGEE87qDSNKN",
        "colab": {
          "base_uri": "https://localhost:8080/"
        },
        "outputId": "71e43f81-f7c9-4e7a-cd14-bb3fa6e30502"
      },
      "execution_count": null,
      "outputs": [
        {
          "output_type": "execute_result",
          "data": {
            "text/plain": [
              "0   -1.000000\n",
              "1   -1.828671\n",
              "2   -0.031469\n",
              "Name: Trend, dtype: float64"
            ]
          },
          "metadata": {},
          "execution_count": 16
        }
      ]
    },
    {
      "cell_type": "markdown",
      "source": [
        "<p>We used a standard scaler to re-scale numerical variables. Categorical variables were re-shaped and both categorical and boolean variables were encoded into values of 0 and 1.The data column is split into ‘day’, ‘month’, and ‘year’ values.</p>"
      ],
      "metadata": {
        "id": "iU7rkF-YZdo5"
      }
    },
    {
      "cell_type": "code",
      "source": [
        "# Normalize a target variable\n",
        "from sklearn.preprocessing import StandardScaler\n",
        "\n",
        "# use standard scaler\n",
        "sc = StandardScaler()\n",
        "\n",
        "# get numeric data and exclude target variable\n",
        "num_df = traffic_df.drop('Delay', axis=1).select_dtypes('number')\n",
        "\n",
        "# update the cols with their normalized values\n",
        "traffic_df[num_df.columns] = sc.fit_transform(num_df.to_numpy())\n",
        "\n",
        "# convert string variable to One Hot Encoding\n",
        "traffic_df = pd.get_dummies(traffic_df)\n",
        "\n",
        "# get boolean data\n",
        "bool_df = traffic_df.select_dtypes('bool')\n",
        "\n",
        "# encode boolean variables into 0 and 1\n",
        "traffic_df[bool_df.columns] = bool_df.astype('uint8')\n",
        "\n",
        "# Split date into individual items\n",
        "traffic_df['Year'] = traffic_df['IntervalStart'].dt.year\n",
        "traffic_df['Month'] = traffic_df['IntervalStart'].dt.month\n",
        "traffic_df['Day'] = traffic_df['IntervalStart'].dt.day\n",
        "traffic_df['Hour'] = traffic_df['IntervalStart'].dt.hour\n",
        "traffic_df['Minute'] = traffic_df['IntervalStart'].dt.minute\n",
        "\n",
        "# remove date column\n",
        "traffic_df = traffic_df.drop('IntervalStart', axis=1)\n",
        "\n",
        "print(traffic_df.head(3))\n",
        "print(traffic_df.shape)"
      ],
      "metadata": {
        "id": "LAeDiBXQgk8H"
      },
      "execution_count": null,
      "outputs": []
    },
    {
      "cell_type": "markdown",
      "source": [
        "<p>At the end of the preprocessing stage, the resulting dataset consists of 587 parameters and 989835 observations.\n",
        "</p>"
      ],
      "metadata": {
        "id": "-v74Q5CiZ0Sv"
      }
    },
    {
      "cell_type": "markdown",
      "metadata": {
        "id": "iP-w5UkoT35W"
      },
      "source": [
        "## Decide which algorithms will be suited for your project. Explain your reasoning. Select 3-4 algorithms for spot-check and determine the best based on accuracy evaluations."
      ]
    },
    {
      "cell_type": "markdown",
      "source": [
        "The resulting dataset following a data preparation stage consists only of discrete and continuous numerical variables. Therefore, each chosen modelling technique needs to be capable of producing a numerical prediction by processing both discrete and continuous numerical parameters. This suggests that the dataset could be used with any regression modelling techniques [3]. However, by skipping the one-hot-encoding process during the data preparation stage, this allows the dataset to be used with any machine learning technologies that are capable of processing multiple data types including numerical and categorical variables and produce numerical prediction.\n",
        "\n",
        "The findings from analysis on the dataset suggests that, though there are significant fluctuation and time series cycles exist within the dataset, there is no deterministic trend from a long term perspective by considering the stationary characteristic of the dataset [4]. Therefore, we assume that linear models such as linear regression would not be effective in capturing patterns within the dataset and should be avoided. Modelling techniques that are designed to process bivariate data are not recommended due to the high volume of parameters in the dataset. Threofore, we assume that the autoregressive integrated moving average (ARIMA), which is a modelling technique commonly used to forecast on univariate stationary time series data, could be an effective method [5].\n",
        "\n",
        "It was also found during the earlier analysis that the target variables are very spread out from the mean by its high variance. Therefore, a chosen modelling technique should be robust to outliers. Tree models such as decision trees are relatively insensitive to outliers [6]. We assume that the Random forest model could be effective as it’s the tree based model that is designed for a large dataset.\n",
        "\n",
        "Conducting a literature review, A. Ata et al utilised a variation of Artificial Neural Network (ANN) to provide a mechanism to predict the traffic congestion [7]. In their model they have used 6 variables including traﬃc speed and traﬃc flow which share similar characteristics with some of the variables in our dataset, and have achieved an accuracy of 97.56% using a time series model and found that a neural network is a plausible approach to find traffic situations. Utilising the findings from their study, we assume that an artificial neural network model is likely to be effective in our study as well.\n",
        "\n",
        "The list of chosen models is as follows:\n",
        "\n",
        "- Autoregressive integrated moving average (ARIMA)\n",
        "\n",
        "- Random Forest\n",
        "\n",
        "- Artificial neural network (ANN)"
      ],
      "metadata": {
        "id": "4oXjdpTcpkzX"
      }
    },
    {
      "cell_type": "markdown",
      "source": [
        "## References"
      ],
      "metadata": {
        "id": "Oc7FIwZPtHIy"
      }
    },
    {
      "cell_type": "markdown",
      "source": [
        "[1] Uci.edu. (2019). UCI Machine Learning Repository: Breast Cancer Wisconsin (Diagnostic) Data Set. [online] Available at: https://archive.ics.uci.edu/ml/datasets/Breast+Cancer+Wisconsin+%28Diagnostic%29 [Accessed 7 Oct. 2022].\n",
        "\n",
        "[2] Leza, C. (2020). So you think you don’t have enough data to do Machine Learning. [online] Analytics Vidhya. Available at: https://medium.com/analytics-vidhya/so-you-think-you-dont-have-enough-data-to-do-machine-learning-3b5c6c512e27 [Accessed 7 Oct. 2022].\n",
        "\n",
        "[3] Afonja, T. (2018). Kernel Functions. [online] Medium. Available at: https://towardsdatascience.com/kernel-function-6f1d2be6091 [Accessed 7 Oct. 2022].\n",
        "\n",
        "[4] GeeksforGeeks. (2020). Radial Basis Function Kernel - Machine Learning. [online] Available at: https://www.geeksforgeeks.org/radial-basis-function-kernel-machine-learning/. [Accessed 7 Oct. 2022].\n",
        "\n",
        "[5] GeeksforGeeks. (2018). Creating linear kernel SVM in Python. [online] Available at: https://www.geeksforgeeks.org/creating-linear-kernel-svm-in-python/ [Accessed 7 Oct. 2022].\n",
        "\n",
        "[6] Scikit-learn.org. (2019). sklearn.model_selection.GridSearchCV — scikit-learn 0.22 documentation. [online] Available at: https://scikit-learn.org/stable/modules/generated/sklearn.model_selection.GridSearchCV.html. [Accessed 7 Oct. 2022].\n"
      ],
      "metadata": {
        "id": "DVTR8EaatAJn"
      }
    }
  ],
  "metadata": {
    "colab": {
      "provenance": []
    },
    "kernelspec": {
      "display_name": "Python 3",
      "name": "python3"
    },
    "language_info": {
      "name": "python"
    }
  },
  "nbformat": 4,
  "nbformat_minor": 0
}